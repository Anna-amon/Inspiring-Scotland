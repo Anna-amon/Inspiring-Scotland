{
 "cells": [
  {
   "cell_type": "code",
   "execution_count": 1,
   "id": "3392d0ec",
   "metadata": {},
   "outputs": [],
   "source": [
    "# Dropouts and number of barriers.\n",
    "# Considering average number of barriers for those who have dropped out. \n",
    "# Comparing this to average number of barriers for those who have reached PD. \n",
    "# Considering just those who are new engagements since 08 April (new system)"
   ]
  },
  {
   "cell_type": "code",
   "execution_count": 2,
   "id": "54ac5d82",
   "metadata": {},
   "outputs": [],
   "source": [
    "import pandas as pd\n",
    "OFN = pd.read_csv('OFN.csv', encoding='latin-1')\n",
    "pd.set_option('mode.chained_assignment', None)"
   ]
  },
  {
   "cell_type": "code",
   "execution_count": 3,
   "id": "0e58cffd",
   "metadata": {},
   "outputs": [],
   "source": [
    "# Remove all forms except Destination Achieved, Drop Out, New Engagement and Continuous Support forms. \n",
    "# Filter rows based on Record Type\n",
    "desired_record_types = ['Destination Achieved', 'Drop Out', 'Continuous Support', 'New Engagement']\n",
    "filtered_OFN = OFN[OFN['Record Type'].isin(desired_record_types)]"
   ]
  },
  {
   "cell_type": "code",
   "execution_count": 4,
   "id": "1e0cb969",
   "metadata": {},
   "outputs": [],
   "source": [
    "# Create three data frames based on Record Types. \n",
    "destination_achieved = filtered_OFN[filtered_OFN['Record Type'] == 'Destination Achieved']\n",
    "continuous_support = filtered_OFN[filtered_OFN['Record Type'] == 'Continuous Support']\n",
    "new_engagement = filtered_OFN[filtered_OFN['Record Type'] == 'New Engagement']\n",
    "drop_out = filtered_OFN[filtered_OFN['Record Type'] == 'Drop Out']"
   ]
  },
  {
   "cell_type": "code",
   "execution_count": 5,
   "id": "421ecce3",
   "metadata": {},
   "outputs": [],
   "source": [
    "# Keep only the first Continuous Support form submitted based on Created Date\n",
    "continuous_support = continuous_support.sort_values(by='Created Date').groupby('Full Name').head(1)"
   ]
  },
  {
   "cell_type": "code",
   "execution_count": 6,
   "id": "d44133ef",
   "metadata": {},
   "outputs": [
    {
     "name": "stdout",
     "output_type": "stream",
     "text": [
      "Destination Achieved Duplicates Value Counts:\n",
      "EACC194               2\n",
      "RUTS-2023-Hig90837    2\n",
      "RUTS-2023-Mac92043    2\n",
      "926207859             2\n",
      "926207878             2\n",
      "926207899             2\n",
      "926207914             2\n",
      "Name: Full Name, dtype: int64\n"
     ]
    }
   ],
   "source": [
    "# Check for duplicates in Destination Achieved\n",
    "destination_achieved_duplicates = destination_achieved[destination_achieved.duplicated(subset='Full Name', keep=False)]\n",
    "destination_achieved_duplicates_count = destination_achieved_duplicates['Full Name'].value_counts()\n",
    "\n",
    "print(\"Destination Achieved Duplicates Value Counts:\")\n",
    "print(destination_achieved_duplicates_count)\n"
   ]
  },
  {
   "cell_type": "code",
   "execution_count": 7,
   "id": "b012c46e",
   "metadata": {},
   "outputs": [],
   "source": [
    "# Removing duplicates - sort values\n",
    "destination_achieved = destination_achieved.sort_values(by='Created Date')\n",
    "\n",
    "# Drop duplicates and keep the earliest record type for each Full Name\n",
    "destination_achieved_no_duplicates = destination_achieved.drop_duplicates(subset='Full Name', keep='last')"
   ]
  },
  {
   "cell_type": "code",
   "execution_count": 8,
   "id": "7af5317c",
   "metadata": {},
   "outputs": [
    {
     "name": "stdout",
     "output_type": "stream",
     "text": [
      "Continuous Support Duplicates Value Counts:\n",
      "Series([], Name: Full Name, dtype: int64)\n"
     ]
    }
   ],
   "source": [
    "# Check for duplicates in Continuous Support\n",
    "continuous_support_duplicates = continuous_support[continuous_support.duplicated(subset='Full Name', keep=False)]\n",
    "continuous_support_duplicates_count = continuous_support_duplicates['Full Name'].value_counts()\n",
    "\n",
    "print(\"Continuous Support Duplicates Value Counts:\")\n",
    "print(continuous_support_duplicates_count)\n"
   ]
  },
  {
   "cell_type": "code",
   "execution_count": 9,
   "id": "ce6875ef",
   "metadata": {
    "scrolled": true
   },
   "outputs": [
    {
     "name": "stdout",
     "output_type": "stream",
     "text": [
      "New Engagements Duplicates Value Counts:\n",
      "OFNAch35310                 4\n",
      "AF2804531                   2\n",
      "AF2850645                   2\n",
      "AFC-331740                  2\n",
      "ENA-OFN-NS-ENG2023107013    2\n",
      "FAR-2023-HYND0009           2\n",
      "S54                         2\n",
      "OA20231121                  2\n",
      "OFNMer36459                 2\n",
      "Tull430                     2\n",
      "Name: Full Name, dtype: int64\n"
     ]
    }
   ],
   "source": [
    "# Check for duplicates in Continuous Support\n",
    "new_engagement_duplicates = new_engagement[new_engagement.duplicated(subset='Full Name', keep=False)]\n",
    "new_engagement_duplicates_count = new_engagement_duplicates['Full Name'].value_counts()\n",
    "\n",
    "print(\"New Engagements Duplicates Value Counts:\")\n",
    "print(new_engagement_duplicates_count)"
   ]
  },
  {
   "cell_type": "code",
   "execution_count": 10,
   "id": "cdb3a063",
   "metadata": {},
   "outputs": [],
   "source": [
    "# Removing duplicates - sort values\n",
    "new_engagement = new_engagement.sort_values(by='Created Date')\n",
    "\n",
    "# Drop duplicates and keep the earliest record type for each Full Name\n",
    "new_engagement_no_duplicates = new_engagement.drop_duplicates(subset='Full Name', keep='first')"
   ]
  },
  {
   "cell_type": "code",
   "execution_count": 11,
   "id": "9134705f",
   "metadata": {},
   "outputs": [
    {
     "name": "stdout",
     "output_type": "stream",
     "text": [
      "Drop Out Duplicates Value Counts:\n",
      "AFC/265994           4\n",
      "AFC/268445           4\n",
      "AFC/269194           3\n",
      "AFC/256436           3\n",
      "AFC/256097           3\n",
      "                    ..\n",
      "AFC/267849           2\n",
      "AFC/267792           2\n",
      "AFC/267754           2\n",
      "AFC/266913           2\n",
      "FAR-2021-ALLS0057    2\n",
      "Name: Full Name, Length: 82, dtype: int64\n"
     ]
    }
   ],
   "source": [
    "# Check for duplicates in Drop Out\n",
    "drop_out_duplicates = drop_out[drop_out.duplicated(subset='Full Name', keep=False)]\n",
    "drop_out_duplicates_count = drop_out_duplicates['Full Name'].value_counts()\n",
    "\n",
    "print(\"Drop Out Duplicates Value Counts:\")\n",
    "print(drop_out_duplicates_count)"
   ]
  },
  {
   "cell_type": "code",
   "execution_count": 12,
   "id": "9644c0c1",
   "metadata": {},
   "outputs": [],
   "source": [
    "# Removing duplicates - sort values\n",
    "drop_out = drop_out.sort_values(by='Created Date')\n",
    "\n",
    "# Drop duplicates and keep the earliest record type for each Full Name\n",
    "drop_out_no_duplicates = drop_out.drop_duplicates(subset='Full Name', keep='last')"
   ]
  },
  {
   "cell_type": "code",
   "execution_count": 13,
   "id": "48442991",
   "metadata": {},
   "outputs": [],
   "source": [
    "# Concat the results so all forms are combined into one data frame. \n",
    "OFN_four_forms = pd.concat([destination_achieved_no_duplicates, drop_out_no_duplicates, continuous_support, new_engagement_no_duplicates])"
   ]
  },
  {
   "cell_type": "code",
   "execution_count": 14,
   "id": "3b011e4e",
   "metadata": {},
   "outputs": [],
   "source": [
    "# Export the concatenated DataFrame to Excel\n",
    "OFN_four_forms.to_excel('combined_forms.xlsx', index=False)"
   ]
  },
  {
   "cell_type": "code",
   "execution_count": 15,
   "id": "15c48d54",
   "metadata": {},
   "outputs": [],
   "source": [
    "# Create data frames with specific combinations\n",
    "PD_dataframe = OFN_four_forms[OFN_four_forms['Record Type'].isin(['Destination Achieved', 'Continuous Support', 'New Engagement'])]\n",
    "Dropout_dataframe = OFN_four_forms[OFN_four_forms['Record Type'].isin(['Drop Out', 'Continuous Support', 'New Engagement'])]\n",
    "\n",
    "# Find Full Names with all three forms in each data frame\n",
    "full_names_with_all_forms_PD = PD_dataframe['Full Name'].value_counts()[PD_dataframe['Full Name'].value_counts() == 3].index\n",
    "full_names_with_all_forms_Dropout = Dropout_dataframe['Full Name'].value_counts()[Dropout_dataframe['Full Name'].value_counts() == 3].index\n",
    "\n",
    "# Filter the original DataFrames to keep only those Full Names\n",
    "PD_final = OFN_four_forms[OFN_four_forms['Full Name'].isin(full_names_with_all_forms_PD)]\n",
    "Dropout_final = OFN_four_forms[OFN_four_forms['Full Name'].isin(full_names_with_all_forms_Dropout)]"
   ]
  },
  {
   "cell_type": "code",
   "execution_count": 16,
   "id": "0f67cbb2",
   "metadata": {},
   "outputs": [],
   "source": [
    "# Save the result to a new CSV file or update the existing one\n",
    "PD_final.to_csv('PD_final.csv', index=False)\n",
    "\n",
    "# Save the result to a new CSV file or update the existing one\n",
    "Dropout_final.to_csv('Dropout_final.csv', index=False)"
   ]
  },
  {
   "cell_type": "code",
   "execution_count": 17,
   "id": "e15d83ef",
   "metadata": {},
   "outputs": [
    {
     "name": "stdout",
     "output_type": "stream",
     "text": [
      "PD_final record counts:\n",
      "Destination Achieved    495\n",
      "Continuous Support      495\n",
      "New Engagement          495\n",
      "Drop Out                 10\n",
      "Name: Record Type, dtype: int64\n",
      "\n",
      "Dropout_final record counts:\n",
      "Drop Out                47\n",
      "Continuous Support      47\n",
      "New Engagement          47\n",
      "Destination Achieved    10\n",
      "Name: Record Type, dtype: int64\n"
     ]
    }
   ],
   "source": [
    "# Provide value ocunts of each dataset, to see record types in each.\n",
    "pd_final_record_counts = PD_final['Record Type'].value_counts()\n",
    "dropout_final_record_counts = Dropout_final['Record Type'].value_counts()\n",
    "\n",
    "print(\"PD_final record counts:\")\n",
    "print(pd_final_record_counts)\n",
    "\n",
    "print(\"\\nDropout_final record counts:\")\n",
    "print(dropout_final_record_counts)"
   ]
  },
  {
   "cell_type": "code",
   "execution_count": 18,
   "id": "e5a4ecdc",
   "metadata": {},
   "outputs": [],
   "source": [
    "# Remove all Full Names with Drop Out forms so as not to double count. \n",
    "PD_final = PD_final[~PD_final['Full Name'].isin(drop_out_no_duplicates['Full Name'])]"
   ]
  },
  {
   "cell_type": "code",
   "execution_count": 19,
   "id": "fd199fab",
   "metadata": {},
   "outputs": [
    {
     "name": "stdout",
     "output_type": "stream",
     "text": [
      "\n",
      "Dropout_final record counts:\n",
      "Destination Achieved    485\n",
      "Continuous Support      485\n",
      "New Engagement          485\n",
      "Name: Record Type, dtype: int64\n"
     ]
    }
   ],
   "source": [
    "# Check value counts again. \n",
    "PD_final_record_counts = PD_final['Record Type'].value_counts()\n",
    "print(\"\\nDropout_final record counts:\")\n",
    "print(PD_final_record_counts)"
   ]
  },
  {
   "cell_type": "code",
   "execution_count": 20,
   "id": "c5d25f87",
   "metadata": {},
   "outputs": [
    {
     "name": "stdout",
     "output_type": "stream",
     "text": [
      "\n",
      "Final Datasets to Analyse:\n",
      "\n",
      "Dropout_final\n",
      "\n",
      "PD_final\n"
     ]
    }
   ],
   "source": [
    "print(\"\\nFinal Datasets to Analyse:\")\n",
    "print(\"\\nDropout_final\")\n",
    "print(\"\\nPD_final\")"
   ]
  },
  {
   "cell_type": "code",
   "execution_count": 21,
   "id": "3fbba164",
   "metadata": {},
   "outputs": [],
   "source": [
    "# Comparitive analyses: barriers of those who dropout and those who reach PD.\n",
    "# Considering number of barriers for those who have dropped out (even if they later acheived a PD) and those who have reached PD (removing those who dropped out before reaching PD)\n"
   ]
  },
  {
   "cell_type": "code",
   "execution_count": 22,
   "id": "9aec921f",
   "metadata": {},
   "outputs": [],
   "source": [
    "# PD_final\n",
    "# Create a new dataframe with only CS forms from PD_final\n",
    "PD_final_continuous_support = PD_final[PD_final['Record Type'] == 'Continuous Support']"
   ]
  },
  {
   "cell_type": "code",
   "execution_count": 23,
   "id": "518a80f8",
   "metadata": {},
   "outputs": [],
   "source": [
    "# Remove white spaces from the \"Barriers\" column\n",
    "PD_final_continuous_support['Barriers'] = PD_final_continuous_support['Barriers'].str.replace(' ', '')\n",
    "\n",
    "# Create a set to store unique barrier values\n",
    "unique_barriers = set()\n",
    "\n",
    "# Iterate over each row in the \"Barriers\" column\n",
    "for row in PD_final_continuous_support['Barriers'].dropna():\n",
    "    # Split the values in the current row by semicolon\n",
    "    row_values = row.split(';')\n",
    "    \n",
    "    # Add each unique value to the set\n",
    "    unique_barriers.update(row_values)\n",
    "\n",
    "# Create new columns based on the unique barrier values\n",
    "for barrier in unique_barriers:\n",
    "    PD_final_continuous_support[barrier] = PD_final_continuous_support['Barriers'].apply(lambda x: 1 if isinstance(x, str) and barrier in x.split(';') else 0)"
   ]
  },
  {
   "cell_type": "code",
   "execution_count": 24,
   "id": "cc7a7eba",
   "metadata": {},
   "outputs": [],
   "source": [
    "# Export to Excel\n",
    "excel_filename = 'PD_final_continuous_support.xlsx'\n",
    "\n",
    "# Export to Excel\n",
    "excel_filename = 'PD_final_continuous_support.xlsx'\n",
    "PD_final_continuous_support.to_excel(excel_filename, index=False)\n"
   ]
  },
  {
   "cell_type": "code",
   "execution_count": 25,
   "id": "45ee5e47",
   "metadata": {},
   "outputs": [],
   "source": [
    "# Create 'barriers_all' column\n",
    "PD_final_continuous_support['barriers_all'] = 0\n",
    "\n",
    "# List of columns to iterate through\n",
    "# Unemployment removed as not a barrier in this dataset, add in accordingly for future.\n",
    "columns_to_count = [\n",
    "    'MentalHealthChallenges', 'Refugeeorasylumseeker', 'Homeless',\n",
    "    'LookedafterYP/CareExperienced', 'Criminalconviction',\n",
    "    'Physicalhealthissues/disability', 'Transportationissues', 'FamilyIssues',\n",
    "    'Carer', 'AddictionIssues', 'Literacy/Numeracyissues', 'Learningchallenges'\n",
    "]\n",
    "\n",
    "# Iterate through specified columns and count occurrences of '1'\n",
    "for column in columns_to_count:\n",
    "    PD_final_continuous_support['barriers_all'] += PD_final_continuous_support[column]"
   ]
  },
  {
   "cell_type": "code",
   "execution_count": 26,
   "id": "f339bcbc",
   "metadata": {
    "scrolled": true
   },
   "outputs": [
    {
     "name": "stdout",
     "output_type": "stream",
     "text": [
      "5332    1\n",
      "5243    1\n",
      "6389    1\n",
      "6354    2\n",
      "5951    1\n",
      "       ..\n",
      "2099    2\n",
      "2177    1\n",
      "2122    1\n",
      "2119    3\n",
      "2219    2\n",
      "Name: barriers_all, Length: 485, dtype: int64\n"
     ]
    }
   ],
   "source": [
    "print(PD_final_continuous_support.barriers_all)"
   ]
  },
  {
   "cell_type": "code",
   "execution_count": 27,
   "id": "15a491ee",
   "metadata": {},
   "outputs": [
    {
     "name": "stdout",
     "output_type": "stream",
     "text": [
      "The average barriers for those achieving PD is: 1.5195876288659793\n"
     ]
    }
   ],
   "source": [
    "# Calculate the average using mean method\n",
    "average_value = PD_final_continuous_support['barriers_all'].mean()\n",
    "\n",
    "print(f\"The average barriers for those achieving PD is: {average_value}\")"
   ]
  },
  {
   "cell_type": "code",
   "execution_count": 28,
   "id": "0cc0741c",
   "metadata": {},
   "outputs": [],
   "source": [
    "# Dropout_final\n",
    "# Create a new dataframe with only CS forms from Dropout_final\n",
    "Dropout_final_continuous_support = Dropout_final[Dropout_final['Record Type'] == 'Continuous Support']"
   ]
  },
  {
   "cell_type": "code",
   "execution_count": 29,
   "id": "59777be7",
   "metadata": {},
   "outputs": [],
   "source": [
    "# Remove white spaces from the \"Barriers\" column\n",
    "Dropout_final_continuous_support['Barriers'] = Dropout_final_continuous_support['Barriers'].str.replace(' ', '')\n",
    "\n",
    "# Create a set to store unique barrier values\n",
    "unique_barriers = set()\n",
    "\n",
    "# Iterate over each row in the \"Barriers\" column\n",
    "for row in Dropout_final_continuous_support['Barriers'].dropna():\n",
    "    # Split the values in the current row by semicolon\n",
    "    row_values = row.split(';')\n",
    "    \n",
    "    # Add each unique value to the set\n",
    "    unique_barriers.update(row_values)\n",
    "\n",
    "# Create new columns based on the unique barrier values\n",
    "for barrier in unique_barriers:\n",
    "    Dropout_final_continuous_support[barrier] = Dropout_final_continuous_support['Barriers'].apply(lambda x: 1 if isinstance(x, str) and barrier in x.split(';') else 0)\n"
   ]
  },
  {
   "cell_type": "code",
   "execution_count": 30,
   "id": "212c3cf9",
   "metadata": {},
   "outputs": [],
   "source": [
    "# Create 'barriers_all' column\n",
    "Dropout_final_continuous_support['barriers_all'] = 0\n",
    "\n",
    "# List of columns to iterate through\n",
    "# 'Unemployment' removed as not a barrier in this dataset, add in accordingly for future.\n",
    "# 'Refugeeorasylumseeker' removed as not a barrier in this dataset, add in accordingly for future.\n",
    "columns_to_count = [\n",
    "    'MentalHealthChallenges', 'Homeless',\n",
    "    'LookedafterYP/CareExperienced', 'Criminalconviction',\n",
    "    'Physicalhealthissues/disability', 'Transportationissues', 'FamilyIssues',\n",
    "    'Carer', 'AddictionIssues', 'Literacy/Numeracyissues', 'Learningchallenges'\n",
    "]\n",
    "\n",
    "# Iterate through specified columns and count occurrences of '1'\n",
    "for column in columns_to_count:\n",
    "    Dropout_final_continuous_support['barriers_all'] += Dropout_final_continuous_support[column]"
   ]
  },
  {
   "cell_type": "code",
   "execution_count": 31,
   "id": "1fb23dad",
   "metadata": {},
   "outputs": [
    {
     "name": "stdout",
     "output_type": "stream",
     "text": [
      "The average barriers for Dropouts is: 1.9787234042553192\n"
     ]
    }
   ],
   "source": [
    "# Calculate the average using mean method\n",
    "average_value_two = Dropout_final_continuous_support['barriers_all'].mean()\n",
    "\n",
    "print(f\"The average barriers for Dropouts is: {average_value_two}\")"
   ]
  },
  {
   "cell_type": "code",
   "execution_count": 32,
   "id": "e8d29da3",
   "metadata": {},
   "outputs": [
    {
     "name": "stdout",
     "output_type": "stream",
     "text": [
      "\n",
      "School Support Statement counts:\n",
      "Mostly bad           24\n",
      "Mostly good          12\n",
      "Not yet disclosed    10\n",
      "Currently Unknown     1\n",
      "Name: School support statements, dtype: int64\n"
     ]
    }
   ],
   "source": [
    "# Value counts of school support statements and dropouts\n",
    "Dropout_schoolsupport_record_counts = Dropout_final_continuous_support['School support statements'].value_counts()\n",
    "print(\"\\nSchool Support Statement counts:\")\n",
    "print(Dropout_schoolsupport_record_counts)"
   ]
  },
  {
   "cell_type": "code",
   "execution_count": 33,
   "id": "5b2811f6",
   "metadata": {},
   "outputs": [
    {
     "name": "stdout",
     "output_type": "stream",
     "text": [
      "\n",
      "School Support Statement counts:\n",
      "Mostly good          185\n",
      "Mostly bad           181\n",
      "Not yet disclosed    112\n",
      "Name: School support statements, dtype: int64\n"
     ]
    }
   ],
   "source": [
    "# Value counts of school support statements and positive destination achieved\n",
    "PD_schoolsupport_record_counts = PD_final_continuous_support['School support statements'].value_counts()\n",
    "print(\"\\nSchool Support Statement counts:\")\n",
    "print(PD_schoolsupport_record_counts)"
   ]
  },
  {
   "cell_type": "code",
   "execution_count": 34,
   "id": "d4c745c7",
   "metadata": {},
   "outputs": [
    {
     "name": "stdout",
     "output_type": "stream",
     "text": [
      "The average wellbeing for YP reaching PD is: 6.414432989690722\n"
     ]
    }
   ],
   "source": [
    "# Wellbeing for PD - from first continuous support form\n",
    "# Calculate the average using mean method\n",
    "average_value_wellbeing_PD = PD_final_continuous_support['General wellbeing/happiness rating'].mean()\n",
    "\n",
    "print(f\"The average wellbeing for YP reaching PD is: {average_value_wellbeing_PD}\")"
   ]
  },
  {
   "cell_type": "code",
   "execution_count": 35,
   "id": "88d845bf",
   "metadata": {},
   "outputs": [
    {
     "name": "stdout",
     "output_type": "stream",
     "text": [
      "The average wellbeing for Dropouts is: 5.297872340425532\n",
      "The average extent YP feels safe for Dropouts is: 6.340425531914893\n",
      "The average extent YP feels healthy for Dropouts is: 5.319148936170213\n",
      "The average extent YP feels achieving for Dropouts is: 5.0\n",
      "The average extent YP feels nurtured for Dropouts is: 5.9787234042553195\n",
      "The average extent YP feels active for Dropouts is: 5.446808510638298\n",
      "The average extent YP feels included for Dropouts is: 5.9361702127659575\n",
      "The average extent YP feels respected for Dropouts is: 5.787234042553192\n",
      "The average extent YP feels responsible for Dropouts is: 5.829787234042553\n"
     ]
    }
   ],
   "source": [
    "# Shanarri for Dropouts - from first continuous support form\n",
    "# Calculate the average using mean method\n",
    "average_value_wellbeing = Dropout_final_continuous_support['General wellbeing/happiness rating'].mean()\n",
    "average_value_safe = Dropout_final_continuous_support['Extent YP feels safe'].mean()\n",
    "average_value_healthy = Dropout_final_continuous_support['Extent YP feels healthy'].mean()\n",
    "average_value_achieving = Dropout_final_continuous_support['Extent YP feels they are achieving'].mean()\n",
    "average_value_nurtured = Dropout_final_continuous_support['Extent YP feels nurtured'].mean()\n",
    "average_value_active = Dropout_final_continuous_support['Extent YP feels active'].mean()\n",
    "average_value_included = Dropout_final_continuous_support['Extent YP feels included'].mean()\n",
    "average_value_respected = Dropout_final_continuous_support['Extent YP feels respected'].mean()\n",
    "average_value_responsible = Dropout_final_continuous_support['Extent YP feels responsible'].mean()\n",
    "\n",
    "print(f\"The average wellbeing for Dropouts is: {average_value_wellbeing}\")\n",
    "print(f\"The average extent YP feels safe for Dropouts is: {average_value_safe}\")\n",
    "print(f\"The average extent YP feels healthy for Dropouts is: {average_value_healthy}\")\n",
    "print(f\"The average extent YP feels achieving for Dropouts is: {average_value_achieving}\")\n",
    "print(f\"The average extent YP feels nurtured for Dropouts is: {average_value_nurtured}\")\n",
    "print(f\"The average extent YP feels active for Dropouts is: {average_value_active}\")\n",
    "print(f\"The average extent YP feels included for Dropouts is: {average_value_included}\")\n",
    "print(f\"The average extent YP feels respected for Dropouts is: {average_value_respected}\")\n",
    "print(f\"The average extent YP feels responsible for Dropouts is: {average_value_responsible}\")"
   ]
  },
  {
   "cell_type": "code",
   "execution_count": 36,
   "id": "d48491d0",
   "metadata": {},
   "outputs": [
    {
     "name": "stdout",
     "output_type": "stream",
     "text": [
      "The average wellbeing for PD is: 6.414432989690722\n",
      "The average extent YP feels safe for PD is: 7.082474226804123\n",
      "The average extent YP feels healthy for PD is: 6.507216494845361\n",
      "The average extent YP feels achieving for PD is: 6.078350515463917\n",
      "The average extent YP feels nurtured for PD is: 6.680412371134021\n",
      "The average extent YP feels active for PD is: 6.424742268041237\n",
      "The average extent YP feels included for PD is: 6.688659793814433\n",
      "The average extent YP feels respected for PD is: 6.645360824742268\n",
      "The average extent YP feels responsible for PD is: 6.802061855670103\n"
     ]
    }
   ],
   "source": [
    "# Shanarri for Dropouts - from first continuous support form\n",
    "# Calculate the average using mean method\n",
    "average_value_wellbeing_PD = PD_final_continuous_support['General wellbeing/happiness rating'].mean()\n",
    "average_value_safe_PD = PD_final_continuous_support['Extent YP feels safe'].mean()\n",
    "average_value_healthy_PD = PD_final_continuous_support['Extent YP feels healthy'].mean()\n",
    "average_value_achieving_PD = PD_final_continuous_support['Extent YP feels they are achieving'].mean()\n",
    "average_value_nurtured_PD = PD_final_continuous_support['Extent YP feels nurtured'].mean()\n",
    "average_value_active_PD = PD_final_continuous_support['Extent YP feels active'].mean()\n",
    "average_value_included_PD = PD_final_continuous_support['Extent YP feels included'].mean()\n",
    "average_value_respected_PD = PD_final_continuous_support['Extent YP feels respected'].mean()\n",
    "average_value_responsible_PD = PD_final_continuous_support['Extent YP feels responsible'].mean()\n",
    "\n",
    "print(f\"The average wellbeing for PD is: {average_value_wellbeing_PD}\")\n",
    "print(f\"The average extent YP feels safe for PD is: {average_value_safe_PD}\")\n",
    "print(f\"The average extent YP feels healthy for PD is: {average_value_healthy_PD}\")\n",
    "print(f\"The average extent YP feels achieving for PD is: {average_value_achieving_PD}\")\n",
    "print(f\"The average extent YP feels nurtured for PD is: {average_value_nurtured_PD}\")\n",
    "print(f\"The average extent YP feels active for PD is: {average_value_active_PD}\")\n",
    "print(f\"The average extent YP feels included for PD is: {average_value_included_PD}\")\n",
    "print(f\"The average extent YP feels respected for PD is: {average_value_respected_PD}\")\n",
    "print(f\"The average extent YP feels responsible for PD is: {average_value_responsible_PD}\")"
   ]
  },
  {
   "cell_type": "code",
   "execution_count": 37,
   "id": "0a1f9512",
   "metadata": {},
   "outputs": [
    {
     "name": "stdout",
     "output_type": "stream",
     "text": [
      "The average age for YP reaching PD is: 17.31875\n"
     ]
    }
   ],
   "source": [
    "# Age at point of engagement\n",
    "# Calculate the average using mean method\n",
    "average_value_age_PD = PD_final_continuous_support['Age at point of engagement'].mean()\n",
    "\n",
    "print(f\"The average age for YP reaching PD is: {average_value_age_PD}\")\n",
    "\n"
   ]
  },
  {
   "cell_type": "code",
   "execution_count": 38,
   "id": "8467e3e7",
   "metadata": {},
   "outputs": [
    {
     "name": "stdout",
     "output_type": "stream",
     "text": [
      "The average age for YP Dropping out is: 18.431818181818183\n"
     ]
    }
   ],
   "source": [
    "# Age at point of engagement\n",
    "# Calculate the average using mean method\n",
    "average_value_age_Dropout = Dropout_final_continuous_support['Age at point of engagement'].mean()\n",
    "\n",
    "print(f\"The average age for YP Dropping out is: {average_value_age_Dropout}\")"
   ]
  },
  {
   "cell_type": "code",
   "execution_count": null,
   "id": "3a4e7304",
   "metadata": {},
   "outputs": [],
   "source": []
  }
 ],
 "metadata": {
  "kernelspec": {
   "display_name": "Python 3 (ipykernel)",
   "language": "python",
   "name": "python3"
  },
  "language_info": {
   "codemirror_mode": {
    "name": "ipython",
    "version": 3
   },
   "file_extension": ".py",
   "mimetype": "text/x-python",
   "name": "python",
   "nbconvert_exporter": "python",
   "pygments_lexer": "ipython3",
   "version": "3.11.4"
  }
 },
 "nbformat": 4,
 "nbformat_minor": 5
}
