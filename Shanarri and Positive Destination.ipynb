{
 "cells": [
  {
   "cell_type": "code",
   "execution_count": 1,
   "id": "58618ffb",
   "metadata": {},
   "outputs": [],
   "source": [
    "# Shanarri indicators: considering these in relation to Positive Destinations. \n",
    "# Shanarri indicators: Extent YP feels safe, healthy, nurtured, achieving, active, included, respected and confident.\n",
    "# This code produces a subset of young people who have been newly engaged and reached a PD since 08 April. \n",
    "# Those whose wellbeing has decreased at PD - considering factors why.\n",
    "\n",
    "# This code provides results for cross-variables of:\n",
    "# First: Shanarri wellbeing from first point of contact to detination achived.\n",
    "# Second: Shanarri wellbeing and number of barriers.\n",
    "# Third: How Destination was sourced and Shanarri at outcome. \n",
    "# Fourth: Weekly engagement hours and Shanarri at outcome. \n",
    "\n",
    "# Data points: First Continuous Support form and Destination Achieved form. \n",
    "# Dataset: only New Engagements since April 08. \n",
    "# Considering only those who have: a new enagegement form, a continuous support form, and destination achieved form.\n",
    "# Import packages and dataset\n",
    "# Suppress the warning for chained assignment\n",
    "\n",
    "import pandas as pd\n",
    "OFN = pd.read_csv('OFN.csv', encoding='latin-1')\n",
    "pd.set_option('mode.chained_assignment', None)"
   ]
  },
  {
   "cell_type": "code",
   "execution_count": 2,
   "id": "16e1d4b1",
   "metadata": {},
   "outputs": [],
   "source": [
    "# Remove all forms except Destination Achieved, New Engagement and Continuous Support forms. \n",
    "# Filter rows based on Record Type\n",
    "desired_record_types = ['Destination Achieved', 'Continuous Support', 'New Engagement']\n",
    "filtered_OFN = OFN[OFN['Record Type'].isin(desired_record_types)]"
   ]
  },
  {
   "cell_type": "code",
   "execution_count": 3,
   "id": "b22d805f",
   "metadata": {},
   "outputs": [],
   "source": [
    "# Create three data frames based on Record Types. \n",
    "destination_achieved = filtered_OFN[filtered_OFN['Record Type'] == 'Destination Achieved']\n",
    "continuous_support = filtered_OFN[filtered_OFN['Record Type'] == 'Continuous Support']\n",
    "new_engagement = filtered_OFN[filtered_OFN['Record Type'] == 'New Engagement']"
   ]
  },
  {
   "cell_type": "code",
   "execution_count": 4,
   "id": "684ee76b",
   "metadata": {},
   "outputs": [],
   "source": [
    "# Keep only the first Continuous Support form submitted based on Created Date\n",
    "continuous_support = continuous_support.sort_values(by='Created Date').groupby('Full Name').head(1)"
   ]
  },
  {
   "cell_type": "code",
   "execution_count": 5,
   "id": "ffa42969",
   "metadata": {},
   "outputs": [],
   "source": [
    "# Concat the results so all forms are combined into one data frame. \n",
    "OFN_three_forms = pd.concat([destination_achieved, continuous_support, new_engagement])"
   ]
  },
  {
   "cell_type": "code",
   "execution_count": 6,
   "id": "e57aa042",
   "metadata": {},
   "outputs": [],
   "source": [
    "# We now need to keep only Full Names with a New Engagement, Continuous Support and Destination Achieved form. \n",
    "\n",
    "# Identify Full Names with forms in Continuous Support, Destination Achieved, and New Engagement\n",
    "full_names_with_all_forms = set(continuous_support['Full Name']).intersection(\n",
    "    set(destination_achieved['Full Name']),\n",
    "    set(new_engagement['Full Name'])\n",
    " )\n",
    "\n",
    "\n",
    "# Filter the original DataFrame based on Full Names with both forms\n",
    "OFN_organised = OFN_three_forms[OFN_three_forms['Full Name'].isin(full_names_with_all_forms)]"
   ]
  },
  {
   "cell_type": "code",
   "execution_count": 7,
   "id": "29ae2052",
   "metadata": {},
   "outputs": [],
   "source": [
    "# Sort the DataFrame by 'Full Names', 'Record Type', and 'Created Date'\n",
    "OFN_organised = OFN_organised.sort_values(by=['Full Name', 'Record Type', 'Created Date'])"
   ]
  },
  {
   "cell_type": "code",
   "execution_count": 8,
   "id": "d90d4e33",
   "metadata": {},
   "outputs": [],
   "source": [
    "# Save the result to a new CSV file or update the existing one\n",
    "OFN_organised.to_csv('OFN_organised_three_forms.csv', index=False)"
   ]
  },
  {
   "cell_type": "code",
   "execution_count": 9,
   "id": "cb28b84f",
   "metadata": {},
   "outputs": [],
   "source": [
    "# Create columns for new variables and map changes\n",
    "\n",
    "# Create a new column 'Change in Extent YP feels wellbeing/happiness'\n",
    "OFN_organised['Change in General wellbeing/happiness rating'] = OFN_organised.groupby('Full Name')['General wellbeing/happiness rating'].diff()\n",
    "\n",
    "# Map the changes to 'Increased', 'Decreased', or 'No Change'\n",
    "OFN_organised['Change in General wellbeing/happiness rating'] = OFN_organised['Change in General wellbeing/happiness rating'].apply(\n",
    "    lambda x: 'Increased' if x > 0 else ('Decreased' if x < 0 else 'No Change')\n",
    ")\n",
    "\n",
    "\n",
    "# Create a new column 'Change in Extent YP feels healthy'\n",
    "OFN_organised['Change in Extent YP feels healthy'] = OFN_organised.groupby('Full Name')['Extent YP feels healthy'].diff()\n",
    "\n",
    "# Map the changes to 'Increased', 'Decreased', or 'No Change'\n",
    "OFN_organised['Change in Extent YP feels healthy'] = OFN_organised['Change in Extent YP feels healthy'].apply(\n",
    "    lambda x: 'Increased' if x > 0 else ('Decreased' if x < 0 else 'No Change')\n",
    ")\n",
    "\n",
    "# Create a new column 'Change in Extent YP feels safe'\n",
    "OFN_organised['Change in Extent YP feels safe'] = OFN_organised.groupby('Full Name')['Extent YP feels safe'].diff()\n",
    "\n",
    "# Map the changes to 'Increased', 'Decreased', or 'No Change'\n",
    "OFN_organised['Change in Extent YP feels safe'] = OFN_organised['Change in Extent YP feels safe'].apply(\n",
    "    lambda x: 'Increased' if x > 0 else ('Decreased' if x < 0 else 'No Change')\n",
    ")\n",
    "\n",
    "# Create a new column 'Change in Extent YP feels they are achieving'\n",
    "OFN_organised['Change in Extent YP feels they are achieving'] = OFN_organised.groupby('Full Name')['Extent YP feels they are achieving'].diff()\n",
    "\n",
    "# Map the changes to 'Increased', 'Decreased', or 'No Change'\n",
    "OFN_organised['Change in Extent YP feels they are achieving'] = OFN_organised['Change in Extent YP feels they are achieving'].apply(\n",
    "    lambda x: 'Increased' if x > 0 else ('Decreased' if x < 0 else 'No Change')\n",
    ")\n",
    "\n",
    "\n",
    "# Create a new column 'Change in Extent YP feels active'\n",
    "OFN_organised['Change in Extent YP feels active'] = OFN_organised.groupby('Full Name')['Extent YP feels active'].diff()\n",
    "\n",
    "# Map the changes to 'Increased', 'Decreased', or 'No Change'\n",
    "OFN_organised['Change in Extent YP feels active'] = OFN_organised['Change in Extent YP feels active'].apply(\n",
    "    lambda x: 'Increased' if x > 0 else ('Decreased' if x < 0 else 'No Change')\n",
    ")\n",
    "\n",
    "# Create a new column 'Change in Extent YP feels they are active'\n",
    "OFN_organised['Change in Extent YP feels included'] = OFN_organised.groupby('Full Name')['Extent YP feels included'].diff()\n",
    "\n",
    "# Map the changes to 'Increased', 'Decreased', or 'No Change'\n",
    "OFN_organised['Change in Extent YP feels included'] = OFN_organised['Change in Extent YP feels included'].apply(\n",
    "    lambda x: 'Increased' if x > 0 else ('Decreased' if x < 0 else 'No Change')\n",
    ")\n",
    "\n",
    "# Create a new column 'Change in Extent YP feels they are respected'\n",
    "OFN_organised['Change in Extent YP feels respected'] = OFN_organised.groupby('Full Name')['Extent YP feels respected'].diff()\n",
    "\n",
    "# Map the changes to 'Increased', 'Decreased', or 'No Change'\n",
    "OFN_organised['Change in Extent YP feels respected'] = OFN_organised['Change in Extent YP feels respected'].apply(\n",
    "    lambda x: 'Increased' if x > 0 else ('Decreased' if x < 0 else 'No Change')\n",
    ")\n",
    "\n",
    "# Create a new column 'Change in Extent YP feels they are responsible'\n",
    "OFN_organised['Change in Extent YP feels responsible'] = OFN_organised.groupby('Full Name')['Extent YP feels responsible'].diff()\n",
    "\n",
    "# Map the changes to 'Increased', 'Decreased', or 'No Change'\n",
    "OFN_organised['Change in Extent YP feels responsible'] = OFN_organised['Change in Extent YP feels responsible'].apply(\n",
    "    lambda x: 'Increased' if x > 0 else ('Decreased' if x < 0 else 'No Change')\n",
    ")\n",
    "\n",
    "# Create a new column 'Change in Extent YP feels nurtured'\n",
    "OFN_organised['Change in Extent YP feels nurtured'] = OFN_organised.groupby('Full Name')['Extent YP feels nurtured'].diff()\n",
    "\n",
    "# Map the changes to 'Increased', 'Decreased', or 'No Change'\n",
    "OFN_organised['Change in Extent YP feels nurtured'] = OFN_organised['Change in Extent YP feels nurtured'].apply(\n",
    "    lambda x: 'Increased' if x > 0 else ('Decreased' if x < 0 else 'No Change')\n",
    ")\n",
    "\n",
    "# Save the result to a new CSV file or update the existing one\n",
    "OFN_organised.to_csv('OFN_with_shanarri_change.csv', index=False)"
   ]
  },
  {
   "cell_type": "code",
   "execution_count": 10,
   "id": "61eda3c5",
   "metadata": {},
   "outputs": [],
   "source": [
    "# Create a new DataFrame with only 'Destination Achieved' rows\n",
    "destination_achieved_df = OFN_organised[OFN_organised['Record Type'] == 'Destination Achieved']"
   ]
  },
  {
   "cell_type": "code",
   "execution_count": 11,
   "id": "88aa2f3f",
   "metadata": {},
   "outputs": [],
   "source": [
    "# Save the result to a new CSV file\n",
    "destination_achieved_df.to_csv('OFN_destination_achieved_only.csv', index=False)"
   ]
  },
  {
   "cell_type": "code",
   "execution_count": 12,
   "id": "53849de9",
   "metadata": {},
   "outputs": [
    {
     "name": "stdout",
     "output_type": "stream",
     "text": [
      "Increased    272\n",
      "No Change    174\n",
      "Decreased     54\n",
      "Name: Change in General wellbeing/happiness rating, dtype: int64\n"
     ]
    }
   ],
   "source": [
    "# Get the count of 'Change in General Wellbeing'\n",
    "extent_yp_count_wellbeing = destination_achieved_df['Change in General wellbeing/happiness rating'].value_counts()\n",
    "\n",
    "print(extent_yp_count_wellbeing)"
   ]
  },
  {
   "cell_type": "code",
   "execution_count": 13,
   "id": "2cb19efc",
   "metadata": {},
   "outputs": [
    {
     "name": "stdout",
     "output_type": "stream",
     "text": [
      "Increased    263\n",
      "No Change    167\n",
      "Decreased     70\n",
      "Name: Change in Extent YP feels nurtured, dtype: int64\n"
     ]
    }
   ],
   "source": [
    "# Get the count of 'Change in Extent YP feels nurtured'\n",
    "extent_yp_count_nurtured = destination_achieved_df['Change in Extent YP feels nurtured'].value_counts()\n",
    "\n",
    "print(extent_yp_count_nurtured)"
   ]
  },
  {
   "cell_type": "code",
   "execution_count": 14,
   "id": "0fc5da88",
   "metadata": {},
   "outputs": [
    {
     "name": "stdout",
     "output_type": "stream",
     "text": [
      "Increased    272\n",
      "No Change    174\n",
      "Decreased     54\n",
      "Name: Change in General wellbeing/happiness rating, dtype: int64\n"
     ]
    }
   ],
   "source": [
    "# Get the count of 'Extent YP increase wellbeing/happiness'\n",
    "extent_yp_count_wellbeing = destination_achieved_df['Change in General wellbeing/happiness rating'].value_counts()\n",
    "\n",
    "print(extent_yp_count_wellbeing)"
   ]
  },
  {
   "cell_type": "code",
   "execution_count": 15,
   "id": "469eb9d1",
   "metadata": {},
   "outputs": [
    {
     "name": "stdout",
     "output_type": "stream",
     "text": [
      "Increased    268\n",
      "No Change    167\n",
      "Decreased     65\n",
      "Name: Change in Extent YP feels healthy, dtype: int64\n"
     ]
    }
   ],
   "source": [
    "# Get the count of 'Extent YP feels healthy'\n",
    "extent_yp_count_healthy = destination_achieved_df['Change in Extent YP feels healthy'].value_counts()\n",
    "\n",
    "print(extent_yp_count_healthy)"
   ]
  },
  {
   "cell_type": "code",
   "execution_count": 16,
   "id": "56224418",
   "metadata": {},
   "outputs": [
    {
     "name": "stdout",
     "output_type": "stream",
     "text": [
      "Increased    241\n",
      "No Change    182\n",
      "Decreased     77\n",
      "Name: Change in Extent YP feels safe, dtype: int64\n"
     ]
    }
   ],
   "source": [
    "# Get the count of 'Extent YP feels safe'\n",
    "extent_yp_count_safe = destination_achieved_df['Change in Extent YP feels safe'].value_counts()\n",
    "\n",
    "print(extent_yp_count_safe)"
   ]
  },
  {
   "cell_type": "code",
   "execution_count": 17,
   "id": "f779289b",
   "metadata": {
    "scrolled": true
   },
   "outputs": [
    {
     "name": "stdout",
     "output_type": "stream",
     "text": [
      "Increased    309\n",
      "No Change    134\n",
      "Decreased     57\n",
      "Name: Change in Extent YP feels they are achieving, dtype: int64\n"
     ]
    }
   ],
   "source": [
    "# Get the count of 'Extent YP feels they are achieving'\n",
    "extent_yp_count_achieving = destination_achieved_df['Change in Extent YP feels they are achieving'].value_counts()\n",
    "\n",
    "print(extent_yp_count_achieving)"
   ]
  },
  {
   "cell_type": "code",
   "execution_count": 18,
   "id": "cf1957e3",
   "metadata": {},
   "outputs": [
    {
     "name": "stdout",
     "output_type": "stream",
     "text": [
      "Increased    262\n",
      "No Change    166\n",
      "Decreased     72\n",
      "Name: Change in Extent YP feels active, dtype: int64\n"
     ]
    }
   ],
   "source": [
    "# Get the count of 'Extent YP feels active'\n",
    "extent_yp_count_active = destination_achieved_df['Change in Extent YP feels active'].value_counts()\n",
    "\n",
    "print(extent_yp_count_active)"
   ]
  },
  {
   "cell_type": "code",
   "execution_count": 19,
   "id": "ad8dafab",
   "metadata": {},
   "outputs": [
    {
     "name": "stdout",
     "output_type": "stream",
     "text": [
      "Increased    265\n",
      "No Change    177\n",
      "Decreased     58\n",
      "Name: Change in Extent YP feels included, dtype: int64\n"
     ]
    }
   ],
   "source": [
    "# Get the count of 'Extent YP feels included'\n",
    "extent_yp_count_included = destination_achieved_df['Change in Extent YP feels included'].value_counts()\n",
    "\n",
    "print(extent_yp_count_included)"
   ]
  },
  {
   "cell_type": "code",
   "execution_count": 20,
   "id": "75e6dfc4",
   "metadata": {},
   "outputs": [
    {
     "name": "stdout",
     "output_type": "stream",
     "text": [
      "Increased    266\n",
      "No Change    167\n",
      "Decreased     67\n",
      "Name: Change in Extent YP feels respected, dtype: int64\n"
     ]
    }
   ],
   "source": [
    "# Get the count of 'Extent YP feels respected'\n",
    "extent_yp_count_respected = destination_achieved_df['Change in Extent YP feels respected'].value_counts()\n",
    "\n",
    "print(extent_yp_count_respected)"
   ]
  },
  {
   "cell_type": "code",
   "execution_count": 21,
   "id": "853fd4aa",
   "metadata": {},
   "outputs": [
    {
     "name": "stdout",
     "output_type": "stream",
     "text": [
      "Increased    267\n",
      "No Change    163\n",
      "Decreased     70\n",
      "Name: Change in Extent YP feels responsible, dtype: int64\n"
     ]
    }
   ],
   "source": [
    "# Get the count of 'Extent YP feels responsible'\n",
    "extent_yp_count_responsible = destination_achieved_df['Change in Extent YP feels responsible'].value_counts()\n",
    "\n",
    "print(extent_yp_count_responsible)"
   ]
  },
  {
   "cell_type": "code",
   "execution_count": 22,
   "id": "078f5a16",
   "metadata": {
    "scrolled": true
   },
   "outputs": [],
   "source": [
    "# Create a DataFrame with the counts\n",
    "counts_df = pd.DataFrame({\n",
    "    'Change in Shanarri': ['Increased', 'No Change', 'Decreased'],\n",
    "    'Extent YP feels wellbeing': extent_yp_count_wellbeing,\n",
    "    'Extent YP feels healthy': extent_yp_count_healthy,\n",
    "    'Extent YP feels they are achieving': extent_yp_count_achieving,\n",
    "    'Extent YP feels responsible': extent_yp_count_responsible,\n",
    "    'Extent YP feels safe': extent_yp_count_safe,\n",
    "    'Extent YP feels nurtured': extent_yp_count_nurtured,\n",
    "    'Extent YP feels respected': extent_yp_count_respected,\n",
    "    'Extent YP feels included': extent_yp_count_included,\n",
    "    'Extent YP feels active': extent_yp_count_active\n",
    "})"
   ]
  },
  {
   "cell_type": "code",
   "execution_count": 23,
   "id": "9b8046aa",
   "metadata": {},
   "outputs": [],
   "source": [
    "# Export DataFrame to Excel\n",
    "excel_file_path = 'Changes_in_Shannari.xlsx'\n",
    "counts_df.to_excel(excel_file_path, index=False)"
   ]
  },
  {
   "cell_type": "code",
   "execution_count": 24,
   "id": "cfc2a5ed",
   "metadata": {},
   "outputs": [],
   "source": [
    "# CONSIDERING BARRIERS AND CHANGES IN SHANARRI"
   ]
  },
  {
   "cell_type": "code",
   "execution_count": 25,
   "id": "db3a595d",
   "metadata": {
    "scrolled": false
   },
   "outputs": [],
   "source": [
    "# Remove white spaces from the \"Barriers\" column\n",
    "destination_achieved_df['Barriers.1'] = destination_achieved_df['Barriers.1'].str.replace(' ', '')\n",
    "\n",
    "# Create a set to store unique barrier values\n",
    "unique_barriers = set()\n",
    "\n",
    "# Iterate over each row in the \"Barriers\" column\n",
    "for row in destination_achieved_df['Barriers.1'].dropna():\n",
    "    # Split the values in the current row by semicolon\n",
    "    row_values = row.split(';')\n",
    "    \n",
    "    # Add each unique value to the set\n",
    "    unique_barriers.update(row_values)\n",
    "\n",
    "# Create new columns based on the unique barrier values\n",
    "for barrier in unique_barriers:\n",
    "    destination_achieved_df[barrier] = destination_achieved_df['Barriers.1'].apply(lambda x: 1 if isinstance(x, str) and barrier in x.split(';') else 0)"
   ]
  },
  {
   "cell_type": "code",
   "execution_count": 26,
   "id": "6b0eaebe",
   "metadata": {},
   "outputs": [],
   "source": [
    "# Create 'barriers_all' column\n",
    "\n",
    "# List of columns to iterate through\n",
    "columns_to_count = [\n",
    "    'MentalHealthChallenges', 'Refugeeorasylumseeker', 'Homeless',\n",
    "    'LookedafterYP/CareExperienced', 'Criminalconviction',\n",
    "    'Physicalhealthissues/disability', 'Transportationissues', 'FamilyIssues',\n",
    "    'Carer', 'AddictionIssues', 'Literacy/Numeracyissues', 'Learningchallenges'\n",
    "]\n",
    "\n",
    "# Create 'barriers_all' column and initialize it to 0\n",
    "destination_achieved_df['barriers_all'] = 0\n",
    "\n",
    "# Iterate over the columns and sum them into 'barriers_all'\n",
    "for column in columns_to_count:\n",
    "    destination_achieved_df['barriers_all'] += destination_achieved_df[column]"
   ]
  },
  {
   "cell_type": "code",
   "execution_count": 27,
   "id": "7abbceda",
   "metadata": {},
   "outputs": [],
   "source": [
    "excel_filename = 'Barriers_Shanarri__PD_file.xlsx'\n",
    "destination_achieved_df.to_excel(excel_filename, index=False)"
   ]
  },
  {
   "cell_type": "code",
   "execution_count": 28,
   "id": "5be1aee0",
   "metadata": {
    "scrolled": true
   },
   "outputs": [
    {
     "name": "stdout",
     "output_type": "stream",
     "text": [
      "Change in General wellbeing/happiness rating\n",
      "Decreased    1.259259\n",
      "Increased    1.812500\n",
      "No Change    1.252874\n",
      "Name: barriers_all, dtype: float64\n"
     ]
    }
   ],
   "source": [
    "# Group by 'Change in Extent YP feels healthy' and calculate the average of 'barriers_all'\n",
    "average_barriers = destination_achieved_df.groupby('Change in General wellbeing/happiness rating')['barriers_all'].mean()\n",
    "\n",
    "# Display the result\n",
    "print(average_barriers)"
   ]
  },
  {
   "cell_type": "code",
   "execution_count": 29,
   "id": "1639d235",
   "metadata": {},
   "outputs": [],
   "source": [
    "# HOW POSITIVE DESTINATION WAS SOURCED AND SHANARRI"
   ]
  },
  {
   "cell_type": "code",
   "execution_count": 30,
   "id": "e28a0724",
   "metadata": {},
   "outputs": [
    {
     "name": "stdout",
     "output_type": "stream",
     "text": [
      "Who sourced the job opportunity?              Other  Venture  Young person\n",
      "Change in General wellbeing/happiness rating                              \n",
      "Decreased                                         6       24            24\n",
      "Increased                                        48      137            87\n",
      "No Change                                        20       69            85\n"
     ]
    }
   ],
   "source": [
    "# Group by 'Change in General wellbeing/happiness rating' and 'Who sourced the job opportunity'\n",
    "grouped_df = destination_achieved_df.groupby(['Change in General wellbeing/happiness rating', 'Who sourced the job opportunity?']).size().unstack(fill_value=0)\n",
    "\n",
    "# Display the resulting DataFrame\n",
    "print(grouped_df)"
   ]
  },
  {
   "cell_type": "code",
   "execution_count": 31,
   "id": "a1be5d58",
   "metadata": {},
   "outputs": [],
   "source": [
    "# WEEKLY ENGAGEMENT HOURS AND POSITIVE DESTINATION"
   ]
  },
  {
   "cell_type": "code",
   "execution_count": 33,
   "id": "56e5f53a",
   "metadata": {},
   "outputs": [],
   "source": [
    "# Read in the earlier data frame with three forms for each YP. \n",
    "# This contains the weekly engagement hours.\n",
    "OFN_three_forms = pd.read_csv('OFN_organised_three_forms.csv', encoding='latin-1')\n",
    "\n",
    "# Selecting only the desired columns\n",
    "selected_columns = ['Full Name', 'Record Type', 'Weekly engagement hours']\n",
    "weekly_engagement_df = OFN_three_forms[selected_columns]\n",
    "\n",
    "# Keeping only rows where 'Record Type' is 'Continuous Support forms'\n",
    "weekly_engagement_df = weekly_engagement_df[weekly_engagement_df['Record Type'] == 'Continuous Support']\n"
   ]
  },
  {
   "cell_type": "code",
   "execution_count": 34,
   "id": "963e973b",
   "metadata": {},
   "outputs": [
    {
     "name": "stdout",
     "output_type": "stream",
     "text": [
      "     Full Name         Record Type Weekly engagement hours\n",
      "0     02536415  Continuous Support                   16-20\n",
      "3     12467727  Continuous Support                     0-5\n",
      "6     19216864  Continuous Support                   21-25\n",
      "9     19962915  Continuous Support                  06-Oct\n",
      "12      200723  Continuous Support                   26-30\n",
      "...        ...                 ...                     ...\n",
      "1475   tull360  Continuous Support                     0-5\n",
      "1478   tull361  Continuous Support                     0-5\n",
      "1481   tull362  Continuous Support                     0-5\n",
      "1484   tull363  Continuous Support                     0-5\n",
      "1487   tull365  Continuous Support                     0-5\n",
      "\n",
      "[495 rows x 3 columns]\n"
     ]
    }
   ],
   "source": [
    "print(weekly_engagement_df)"
   ]
  },
  {
   "cell_type": "code",
   "execution_count": 35,
   "id": "d2f12fb3",
   "metadata": {},
   "outputs": [],
   "source": [
    "# Remove 'Record Type' column from weekly_engagement_df\n",
    "weekly_engagement_df.drop('Record Type', axis=1, inplace=True)"
   ]
  },
  {
   "cell_type": "code",
   "execution_count": 36,
   "id": "09b8f833",
   "metadata": {},
   "outputs": [
    {
     "name": "stdout",
     "output_type": "stream",
     "text": [
      "     Full Name Weekly engagement hours\n",
      "0     02536415                   16-20\n",
      "3     12467727                     0-5\n",
      "6     19216864                   21-25\n",
      "9     19962915                  06-Oct\n",
      "12      200723                   26-30\n",
      "...        ...                     ...\n",
      "1475   tull360                     0-5\n",
      "1478   tull361                     0-5\n",
      "1481   tull362                     0-5\n",
      "1484   tull363                     0-5\n",
      "1487   tull365                     0-5\n",
      "\n",
      "[495 rows x 2 columns]\n"
     ]
    }
   ],
   "source": [
    "print(weekly_engagement_df)"
   ]
  },
  {
   "cell_type": "code",
   "execution_count": 37,
   "id": "56704d11",
   "metadata": {},
   "outputs": [],
   "source": [
    "# Read in the file containing Barriers and Positive Destinations. \n",
    "# We need to add the weekly engagement dataframe to this via a merge.\n",
    "Barriers_and_PD = pd.read_excel('Barriers_Shanarri__PD_file.xlsx', sheet_name='Sheet1')\n",
    "\n",
    "# Assuming 'Full Name' is the common column for merging\n",
    "Weekly_Engagement_and_PD_merged = pd.merge(weekly_engagement_df, Barriers_and_PD, on='Full Name', how='inner')"
   ]
  },
  {
   "cell_type": "code",
   "execution_count": 38,
   "id": "2a00e39a",
   "metadata": {},
   "outputs": [],
   "source": [
    "# Save the merged DataFrame to an Excel file\n",
    "output_excel_file = 'Weekly_Engagement_and_PD.xlsx'\n",
    "Weekly_Engagement_and_PD_merged.to_excel(output_excel_file, index=False)"
   ]
  },
  {
   "cell_type": "code",
   "execution_count": 39,
   "id": "c180d887",
   "metadata": {},
   "outputs": [
    {
     "name": "stdout",
     "output_type": "stream",
     "text": [
      "Change in General wellbeing/happiness rating  Decreased  Increased  No Change\n",
      "Weekly engagement hours_x                                                    \n",
      "0-5                                                  13        149         61\n",
      "06-Oct                                                6         46         34\n",
      "16-20                                                 2         14          1\n",
      "21-25                                                 2          8          9\n",
      "26-30                                                 0          4          6\n",
      "Currently Unknown                                    22         29         53\n",
      "Nov-15                                                8         22          8\n"
     ]
    }
   ],
   "source": [
    "# Create a cross-tabulation looking at weekly hours of support and change in wellbeing once reaching outcome.\n",
    "cross_tab = pd.crosstab(Weekly_Engagement_and_PD_merged['Weekly engagement hours_x'],\n",
    "                       Weekly_Engagement_and_PD_merged['Change in General wellbeing/happiness rating'])\n",
    "\n",
    "# Display the cross-tabulation\n",
    "print(cross_tab)"
   ]
  },
  {
   "cell_type": "code",
   "execution_count": 40,
   "id": "0f73cd1b",
   "metadata": {},
   "outputs": [
    {
     "name": "stdout",
     "output_type": "stream",
     "text": [
      "barriers_all                0   1   2   3   4  5  6  7\n",
      "Weekly engagement hours_x                             \n",
      "0-5                        48  47  87  22  15  3  1  0\n",
      "06-Oct                     10  31  19  19   5  2  0  0\n",
      "16-20                       1   5   7   0   2  2  0  0\n",
      "21-25                       8   5   3   0   1  0  1  1\n",
      "26-30                       5   3   2   0   0  0  0  0\n",
      "Currently Unknown          19  64  14   5   2  0  0  0\n",
      "Nov-15                      5  16   8   4   5  0  0  0\n"
     ]
    }
   ],
   "source": [
    "# Create a cross-tabulation looking at weekly hours and amount of barriers.\n",
    "cross_tab2 = pd.crosstab(Weekly_Engagement_and_PD_merged['Weekly engagement hours_x'],\n",
    "                       Weekly_Engagement_and_PD_merged['barriers_all'])\n",
    "\n",
    "# Display the cross-tabulation\n",
    "print(cross_tab2)"
   ]
  }
 ],
 "metadata": {
  "kernelspec": {
   "display_name": "Python 3 (ipykernel)",
   "language": "python",
   "name": "python3"
  },
  "language_info": {
   "codemirror_mode": {
    "name": "ipython",
    "version": 3
   },
   "file_extension": ".py",
   "mimetype": "text/x-python",
   "name": "python",
   "nbconvert_exporter": "python",
   "pygments_lexer": "ipython3",
   "version": "3.11.4"
  }
 },
 "nbformat": 4,
 "nbformat_minor": 5
}
