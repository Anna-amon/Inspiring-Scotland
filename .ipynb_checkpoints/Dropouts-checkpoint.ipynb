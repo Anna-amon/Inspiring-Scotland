{
 "cells": [
  {
   "cell_type": "code",
   "execution_count": 1,
   "id": "3392d0ec",
   "metadata": {},
   "outputs": [],
   "source": [
    "# Dropouts and number of barriers.\n",
    "# Considering average number of barriers for those who have dropped out. \n",
    "# Comparing this to average number of barriers for those who have reached PD. \n",
    "# Considering just those who are new engagements since 08 April (new system)"
   ]
  },
  {
   "cell_type": "code",
   "execution_count": 2,
   "id": "54ac5d82",
   "metadata": {},
   "outputs": [],
   "source": [
    "import pandas as pd\n",
    "OFN = pd.read_csv('OFN.csv', encoding='latin-1')"
   ]
  },
  {
   "cell_type": "code",
   "execution_count": 3,
   "id": "0e58cffd",
   "metadata": {},
   "outputs": [],
   "source": [
    "# Remove all forms except Destination Achieved, Drop Out, New Engagement and Continuous Support forms. \n",
    "# Filter rows based on Record Type\n",
    "desired_record_types = ['Destination Achieved', 'Drop Out', 'Continuous Support', 'New Engagement']\n",
    "filtered_OFN = OFN[OFN['Record Type'].isin(desired_record_types)]"
   ]
  },
  {
   "cell_type": "code",
   "execution_count": 4,
   "id": "1e0cb969",
   "metadata": {},
   "outputs": [],
   "source": [
    "# Create three data frames based on Record Types. \n",
    "destination_achieved = filtered_OFN[filtered_OFN['Record Type'] == 'Destination Achieved']\n",
    "continuous_support = filtered_OFN[filtered_OFN['Record Type'] == 'Continuous Support']\n",
    "new_engagement = filtered_OFN[filtered_OFN['Record Type'] == 'New Engagement']\n",
    "drop_out = filtered_OFN[filtered_OFN['Record Type'] == 'Drop Out']"
   ]
  },
  {
   "cell_type": "code",
   "execution_count": 5,
   "id": "421ecce3",
   "metadata": {},
   "outputs": [],
   "source": [
    "# Keep only the first Continuous Support form submitted based on Created Date\n",
    "continuous_support = continuous_support.sort_values(by='Created Date').groupby('Full Name').head(1)"
   ]
  },
  {
   "cell_type": "code",
   "execution_count": 6,
   "id": "48442991",
   "metadata": {},
   "outputs": [],
   "source": [
    "# Concat the results so all forms are combined into one data frame. \n",
    "OFN_four_forms = pd.concat([destination_achieved, drop_out, continuous_support, new_engagement])"
   ]
  },
  {
   "cell_type": "code",
   "execution_count": 7,
   "id": "3b011e4e",
   "metadata": {},
   "outputs": [],
   "source": [
    "# Export the concatenated DataFrame to Excel\n",
    "OFN_four_forms.to_excel('combined_forms.xlsx', index=False)"
   ]
  },
  {
   "cell_type": "code",
   "execution_count": 8,
   "id": "15c48d54",
   "metadata": {},
   "outputs": [],
   "source": [
    "# Create data frames with specific combinations\n",
    "PD_dataframe = OFN_four_forms[OFN_four_forms['Record Type'].isin(['Destination Achieved', 'Continuous Support', 'New Engagement'])]\n",
    "Dropout_dataframe = OFN_four_forms[OFN_four_forms['Record Type'].isin(['Drop Out', 'Continuous Support', 'New Engagement'])]\n",
    "\n",
    "# Find Full Names with all three forms in each data frame\n",
    "full_names_with_all_forms_PD = PD_dataframe['Full Name'].value_counts()[PD_dataframe['Full Name'].value_counts() == 3].index\n",
    "full_names_with_all_forms_Dropout = Dropout_dataframe['Full Name'].value_counts()[Dropout_dataframe['Full Name'].value_counts() == 3].index\n",
    "\n",
    "# Filter the original DataFrames to keep only those Full Names\n",
    "PD_final = OFN_four_forms[OFN_four_forms['Full Name'].isin(full_names_with_all_forms_PD)]\n",
    "Dropout_final = OFN_four_forms[OFN_four_forms['Full Name'].isin(full_names_with_all_forms_Dropout)]"
   ]
  },
  {
   "cell_type": "code",
   "execution_count": 10,
   "id": "0f67cbb2",
   "metadata": {},
   "outputs": [],
   "source": [
    "# Save the result to a new CSV file or update the existing one\n",
    "PD_final.to_csv('PD_final.csv', index=False)\n",
    "\n",
    "# Save the result to a new CSV file or update the existing one\n",
    "Dropout_final.to_csv('Dropout_final.csv', index=False)"
   ]
  },
  {
   "cell_type": "code",
   "execution_count": null,
   "id": "e15d83ef",
   "metadata": {},
   "outputs": [],
   "source": []
  }
 ],
 "metadata": {
  "kernelspec": {
   "display_name": "Python 3 (ipykernel)",
   "language": "python",
   "name": "python3"
  },
  "language_info": {
   "codemirror_mode": {
    "name": "ipython",
    "version": 3
   },
   "file_extension": ".py",
   "mimetype": "text/x-python",
   "name": "python",
   "nbconvert_exporter": "python",
   "pygments_lexer": "ipython3",
   "version": "3.11.4"
  }
 },
 "nbformat": 4,
 "nbformat_minor": 5
}
