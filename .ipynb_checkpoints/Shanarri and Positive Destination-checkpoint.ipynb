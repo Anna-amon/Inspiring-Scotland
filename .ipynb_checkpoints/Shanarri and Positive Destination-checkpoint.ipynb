{
 "cells": [
  {
   "cell_type": "code",
   "execution_count": 1,
   "id": "58618ffb",
   "metadata": {},
   "outputs": [],
   "source": [
    "# Shanarri indicators: considering these in relation to Positive Destinations.\n",
    "# Those whose wellbeing has decreased - considering factors why.\n",
    "# Extent YP feels safe, healthy, nurtured, achieving, active, included, respected and confident.\n",
    "# Data points: First Continuous Support form and Destination Achieved form. \n",
    "# Dataset: only New Engagements since April 08. \n",
    "# Considering only those who have: a new enagegement form, a continuous support form, and destination achieved form.\n",
    "# Import packages and dataset\n",
    "# Suppress the warning for chained assignment\n",
    "import pandas as pd\n",
    "OFN = pd.read_csv('OFN.csv', encoding='latin-1')\n",
    "pd.set_option('mode.chained_assignment', None)"
   ]
  },
  {
   "cell_type": "code",
   "execution_count": 2,
   "id": "16e1d4b1",
   "metadata": {},
   "outputs": [],
   "source": [
    "# Remove all forms except Destination Achieved, New Engagement and Continuous Support forms. \n",
    "# Filter rows based on Record Type\n",
    "desired_record_types = ['Destination Achieved', 'Continuous Support', 'New Engagement']\n",
    "filtered_df = OFN[OFN['Record Type'].isin(desired_record_types)]"
   ]
  },
  {
   "cell_type": "code",
   "execution_count": 3,
   "id": "b22d805f",
   "metadata": {},
   "outputs": [],
   "source": [
    "# Create three data frames based on Record Types. \n",
    "destination_achieved = OFN[OFN['Record Type'] == 'Destination Achieved']\n",
    "continuous_support = OFN[OFN['Record Type'] == 'Continuous Support']\n",
    "new_engagement = OFN[OFN['Record Type'] == 'New Engagement']"
   ]
  },
  {
   "cell_type": "code",
   "execution_count": 4,
   "id": "684ee76b",
   "metadata": {},
   "outputs": [],
   "source": [
    "# Keep only the first Continuous Support form submitted based on Created Date\n",
    "continuous_support = continuous_support.sort_values(by='Created Date').groupby('Full Name').head(1)"
   ]
  },
  {
   "cell_type": "code",
   "execution_count": 5,
   "id": "ffa42969",
   "metadata": {},
   "outputs": [],
   "source": [
    "# Concat the results so all forms are combined into one data frame. \n",
    "result_df = pd.concat([destination_achieved, continuous_support, new_engagement])"
   ]
  },
  {
   "cell_type": "code",
   "execution_count": 6,
   "id": "e57aa042",
   "metadata": {},
   "outputs": [],
   "source": [
    "# We now need to keep only Full Names with a New Engagement, Continuous Support and Destination Achieved form. \n",
    "\n",
    "# Identify Full Names with forms in Continuous Support, Destination Achieved, and New Engagement\n",
    "full_names_with_all_forms = set(continuous_support['Full Name']).intersection(\n",
    "    set(destination_achieved['Full Name']),\n",
    "    set(new_engagement['Full Name'])\n",
    " )\n",
    "\n",
    "\n",
    "# Filter the original DataFrame based on Full Names with both forms\n",
    "filtered_df = result_df[result_df['Full Name'].isin(full_names_with_all_forms)]"
   ]
  },
  {
   "cell_type": "code",
   "execution_count": 7,
   "id": "29ae2052",
   "metadata": {},
   "outputs": [],
   "source": [
    "# Sort the DataFrame by 'Full Names', 'Record Type', and 'Created Date'\n",
    "filtered_df = filtered_df.sort_values(by=['Full Name', 'Record Type', 'Created Date'])"
   ]
  },
  {
   "cell_type": "code",
   "execution_count": 8,
   "id": "d90d4e33",
   "metadata": {},
   "outputs": [],
   "source": [
    "# Save the result to a new CSV file or update the existing one\n",
    "filtered_df.to_csv('result_OFN_filtered.csv', index=False)"
   ]
  },
  {
   "cell_type": "code",
   "execution_count": 9,
   "id": "cb28b84f",
   "metadata": {},
   "outputs": [],
   "source": [
    "# Create columns for new variables and map changes\n",
    "\n",
    "# Create a new column 'Change in Extent YP feels wellbeing/happiness'\n",
    "filtered_df['Change in General wellbeing/happiness rating'] = filtered_df.groupby('Full Name')['General wellbeing/happiness rating'].diff()\n",
    "\n",
    "# Map the changes to 'Increased', 'Decreased', or 'No Change'\n",
    "filtered_df['Change in General wellbeing/happiness rating'] = filtered_df['Change in General wellbeing/happiness rating'].apply(\n",
    "    lambda x: 'Increased' if x > 0 else ('Decreased' if x < 0 else 'No Change')\n",
    ")\n",
    "\n",
    "\n",
    "# Create a new column 'Change in Extent YP feels healthy'\n",
    "filtered_df['Change in Extent YP feels healthy'] = filtered_df.groupby('Full Name')['Extent YP feels healthy'].diff()\n",
    "\n",
    "# Map the changes to 'Increased', 'Decreased', or 'No Change'\n",
    "filtered_df['Change in Extent YP feels healthy'] = filtered_df['Change in Extent YP feels healthy'].apply(\n",
    "    lambda x: 'Increased' if x > 0 else ('Decreased' if x < 0 else 'No Change')\n",
    ")\n",
    "\n",
    "# Create a new column 'Change in Extent YP feels safe'\n",
    "filtered_df['Change in Extent YP feels safe'] = filtered_df.groupby('Full Name')['Extent YP feels safe'].diff()\n",
    "\n",
    "# Map the changes to 'Increased', 'Decreased', or 'No Change'\n",
    "filtered_df['Change in Extent YP feels safe'] = filtered_df['Change in Extent YP feels safe'].apply(\n",
    "    lambda x: 'Increased' if x > 0 else ('Decreased' if x < 0 else 'No Change')\n",
    ")\n",
    "\n",
    "# Create a new column 'Change in Extent YP feels they are achieving'\n",
    "filtered_df['Change in Extent YP feels they are achieving'] = filtered_df.groupby('Full Name')['Extent YP feels they are achieving'].diff()\n",
    "\n",
    "# Map the changes to 'Increased', 'Decreased', or 'No Change'\n",
    "filtered_df['Change in Extent YP feels they are achieving'] = filtered_df['Change in Extent YP feels they are achieving'].apply(\n",
    "    lambda x: 'Increased' if x > 0 else ('Decreased' if x < 0 else 'No Change')\n",
    ")\n",
    "\n",
    "\n",
    "# Create a new column 'Change in Extent YP feels active'\n",
    "filtered_df['Change in Extent YP feels active'] = filtered_df.groupby('Full Name')['Extent YP feels active'].diff()\n",
    "\n",
    "# Map the changes to 'Increased', 'Decreased', or 'No Change'\n",
    "filtered_df['Change in Extent YP feels active'] = filtered_df['Change in Extent YP feels active'].apply(\n",
    "    lambda x: 'Increased' if x > 0 else ('Decreased' if x < 0 else 'No Change')\n",
    ")\n",
    "\n",
    "# Create a new column 'Change in Extent YP feels they are active'\n",
    "filtered_df['Change in Extent YP feels included'] = filtered_df.groupby('Full Name')['Extent YP feels included'].diff()\n",
    "\n",
    "# Map the changes to 'Increased', 'Decreased', or 'No Change'\n",
    "filtered_df['Change in Extent YP feels included'] = filtered_df['Change in Extent YP feels included'].apply(\n",
    "    lambda x: 'Increased' if x > 0 else ('Decreased' if x < 0 else 'No Change')\n",
    ")\n",
    "\n",
    "# Create a new column 'Change in Extent YP feels they are respected'\n",
    "filtered_df['Change in Extent YP feels respected'] = filtered_df.groupby('Full Name')['Extent YP feels respected'].diff()\n",
    "\n",
    "# Map the changes to 'Increased', 'Decreased', or 'No Change'\n",
    "filtered_df['Change in Extent YP feels respected'] = filtered_df['Change in Extent YP feels respected'].apply(\n",
    "    lambda x: 'Increased' if x > 0 else ('Decreased' if x < 0 else 'No Change')\n",
    ")\n",
    "\n",
    "# Create a new column 'Change in Extent YP feels they are responsible'\n",
    "filtered_df['Change in Extent YP feels responsible'] = filtered_df.groupby('Full Name')['Extent YP feels responsible'].diff()\n",
    "\n",
    "# Map the changes to 'Increased', 'Decreased', or 'No Change'\n",
    "filtered_df['Change in Extent YP feels responsible'] = filtered_df['Change in Extent YP feels responsible'].apply(\n",
    "    lambda x: 'Increased' if x > 0 else ('Decreased' if x < 0 else 'No Change')\n",
    ")\n",
    "\n",
    "# Create a new column 'Change in Extent YP feels nurtured'\n",
    "filtered_df['Change in Extent YP feels nurtured'] = filtered_df.groupby('Full Name')['Extent YP feels nurtured'].diff()\n",
    "\n",
    "# Map the changes to 'Increased', 'Decreased', or 'No Change'\n",
    "filtered_df['Change in Extent YP feels nurtured'] = filtered_df['Change in Extent YP feels nurtured'].apply(\n",
    "    lambda x: 'Increased' if x > 0 else ('Decreased' if x < 0 else 'No Change')\n",
    ")\n",
    "\n",
    "# Save the result to a new CSV file or update the existing one\n",
    "filtered_df.to_csv('result_OFN_filtered_with_change.csv', index=False)"
   ]
  },
  {
   "cell_type": "code",
   "execution_count": 10,
   "id": "61eda3c5",
   "metadata": {},
   "outputs": [],
   "source": [
    "# Create a new DataFrame with only 'Destination Achieved' rows\n",
    "destination_achieved_df = filtered_df[filtered_df['Record Type'] == 'Destination Achieved']"
   ]
  },
  {
   "cell_type": "code",
   "execution_count": 11,
   "id": "53849de9",
   "metadata": {},
   "outputs": [
    {
     "name": "stdout",
     "output_type": "stream",
     "text": [
      "Increased    272\n",
      "No Change    174\n",
      "Decreased     54\n",
      "Name: Change in General wellbeing/happiness rating, dtype: int64\n"
     ]
    }
   ],
   "source": [
    "# Get the count of 'Change in General Wellbeing'\n",
    "extent_yp_count_wellbeing = destination_achieved_df['Change in General wellbeing/happiness rating'].value_counts()\n",
    "\n",
    "print(extent_yp_count_wellbeing)\n",
    "\n",
    "# Save the result to a new CSV file or update the existing one\n",
    "destination_achieved_df.to_csv('result_destination_achieved.csv', index=False)"
   ]
  },
  {
   "cell_type": "code",
   "execution_count": 12,
   "id": "2cb19efc",
   "metadata": {},
   "outputs": [
    {
     "name": "stdout",
     "output_type": "stream",
     "text": [
      "Increased    263\n",
      "No Change    167\n",
      "Decreased     70\n",
      "Name: Change in Extent YP feels nurtured, dtype: int64\n"
     ]
    }
   ],
   "source": [
    "# Get the count of 'Change in Extent YP feels nurtured'\n",
    "extent_yp_count_nurtured = destination_achieved_df['Change in Extent YP feels nurtured'].value_counts()\n",
    "\n",
    "print(extent_yp_count_nurtured)\n",
    "\n",
    "# Save the result to a new CSV file or update the existing one\n",
    "destination_achieved_df.to_csv('result_destination_achieved.csv', index=False)"
   ]
  },
  {
   "cell_type": "code",
   "execution_count": 13,
   "id": "0fc5da88",
   "metadata": {},
   "outputs": [
    {
     "name": "stdout",
     "output_type": "stream",
     "text": [
      "Increased    272\n",
      "No Change    174\n",
      "Decreased     54\n",
      "Name: Change in General wellbeing/happiness rating, dtype: int64\n"
     ]
    }
   ],
   "source": [
    "# Get the count of 'Extent YP increase wellbeing/happiness'\n",
    "extent_yp_count_wellbeing = destination_achieved_df['Change in General wellbeing/happiness rating'].value_counts()\n",
    "\n",
    "print(extent_yp_count_wellbeing)\n",
    "\n",
    "# Save the result to a new CSV file or update the existing one\n",
    "destination_achieved_df.to_csv('result_destination_achieved.csv', index=False)"
   ]
  },
  {
   "cell_type": "code",
   "execution_count": 14,
   "id": "469eb9d1",
   "metadata": {},
   "outputs": [
    {
     "name": "stdout",
     "output_type": "stream",
     "text": [
      "Increased    268\n",
      "No Change    167\n",
      "Decreased     65\n",
      "Name: Change in Extent YP feels healthy, dtype: int64\n"
     ]
    }
   ],
   "source": [
    "# Get the count of 'Extent YP feels healthy'\n",
    "extent_yp_count_healthy = destination_achieved_df['Change in Extent YP feels healthy'].value_counts()\n",
    "\n",
    "print(extent_yp_count_healthy)\n",
    "\n",
    "# Save the result to a new CSV file or update the existing one\n",
    "destination_achieved_df.to_csv('result_destination_achieved.csv', index=False)"
   ]
  },
  {
   "cell_type": "code",
   "execution_count": 15,
   "id": "56224418",
   "metadata": {},
   "outputs": [
    {
     "name": "stdout",
     "output_type": "stream",
     "text": [
      "Increased    241\n",
      "No Change    182\n",
      "Decreased     77\n",
      "Name: Change in Extent YP feels safe, dtype: int64\n"
     ]
    }
   ],
   "source": [
    "# Get the count of 'Extent YP feels safe'\n",
    "extent_yp_count_safe = destination_achieved_df['Change in Extent YP feels safe'].value_counts()\n",
    "\n",
    "print(extent_yp_count_safe)\n",
    "\n",
    "# Save the result to a new CSV file or update the existing one\n",
    "destination_achieved_df.to_csv('result_destination_achieved.csv', index=False)"
   ]
  },
  {
   "cell_type": "code",
   "execution_count": 16,
   "id": "f779289b",
   "metadata": {
    "scrolled": true
   },
   "outputs": [
    {
     "name": "stdout",
     "output_type": "stream",
     "text": [
      "Increased    309\n",
      "No Change    134\n",
      "Decreased     57\n",
      "Name: Change in Extent YP feels they are achieving, dtype: int64\n"
     ]
    }
   ],
   "source": [
    "# Get the count of 'Extent YP feels they are achieving'\n",
    "extent_yp_count_achieving = destination_achieved_df['Change in Extent YP feels they are achieving'].value_counts()\n",
    "\n",
    "print(extent_yp_count_achieving)\n",
    "\n",
    "# Save the result to a new CSV file or update the existing one\n",
    "destination_achieved_df.to_csv('result_destination_achieved.csv', index=False)"
   ]
  },
  {
   "cell_type": "code",
   "execution_count": 17,
   "id": "cf1957e3",
   "metadata": {},
   "outputs": [
    {
     "name": "stdout",
     "output_type": "stream",
     "text": [
      "Increased    262\n",
      "No Change    166\n",
      "Decreased     72\n",
      "Name: Change in Extent YP feels active, dtype: int64\n"
     ]
    }
   ],
   "source": [
    "# Get the count of 'Extent YP feels active'\n",
    "extent_yp_count_active = destination_achieved_df['Change in Extent YP feels active'].value_counts()\n",
    "\n",
    "print(extent_yp_count_active)\n",
    "\n",
    "# Save the result to a new CSV file or update the existing one\n",
    "destination_achieved_df.to_csv('result_destination_achieved.csv', index=False)"
   ]
  },
  {
   "cell_type": "code",
   "execution_count": 18,
   "id": "ad8dafab",
   "metadata": {},
   "outputs": [
    {
     "name": "stdout",
     "output_type": "stream",
     "text": [
      "Increased    265\n",
      "No Change    177\n",
      "Decreased     58\n",
      "Name: Change in Extent YP feels included, dtype: int64\n"
     ]
    }
   ],
   "source": [
    "# Get the count of 'Extent YP feels included'\n",
    "extent_yp_count_included = destination_achieved_df['Change in Extent YP feels included'].value_counts()\n",
    "\n",
    "print(extent_yp_count_included)\n",
    "\n",
    "# Save the result to a new CSV file or update the existing one\n",
    "destination_achieved_df.to_csv('result_destination_achieved.csv', index=False)"
   ]
  },
  {
   "cell_type": "code",
   "execution_count": 19,
   "id": "75e6dfc4",
   "metadata": {},
   "outputs": [
    {
     "name": "stdout",
     "output_type": "stream",
     "text": [
      "Increased    266\n",
      "No Change    167\n",
      "Decreased     67\n",
      "Name: Change in Extent YP feels respected, dtype: int64\n"
     ]
    }
   ],
   "source": [
    "# Get the count of 'Extent YP feels respected'\n",
    "extent_yp_count_respected = destination_achieved_df['Change in Extent YP feels respected'].value_counts()\n",
    "\n",
    "print(extent_yp_count_respected)\n",
    "\n",
    "# Save the result to a new CSV file or update the existing one\n",
    "destination_achieved_df.to_csv('result_destination_achieved.csv', index=False)"
   ]
  },
  {
   "cell_type": "code",
   "execution_count": 20,
   "id": "853fd4aa",
   "metadata": {},
   "outputs": [
    {
     "name": "stdout",
     "output_type": "stream",
     "text": [
      "Increased    267\n",
      "No Change    163\n",
      "Decreased     70\n",
      "Name: Change in Extent YP feels responsible, dtype: int64\n"
     ]
    }
   ],
   "source": [
    "# Get the count of 'Extent YP feels responsible'\n",
    "extent_yp_count_responsible = destination_achieved_df['Change in Extent YP feels responsible'].value_counts()\n",
    "\n",
    "print(extent_yp_count_responsible)\n",
    "\n",
    "# Save the result to a new CSV file or update the existing one\n",
    "destination_achieved_df.to_csv('result_destination_achieved.csv', index=False)"
   ]
  },
  {
   "cell_type": "code",
   "execution_count": 21,
   "id": "078f5a16",
   "metadata": {
    "scrolled": true
   },
   "outputs": [
    {
     "name": "stdout",
     "output_type": "stream",
     "text": [
      "          Change in Shanarri  Extent YP feels wellbeing  \\\n",
      "Increased          Increased                        272   \n",
      "No Change          No Change                        174   \n",
      "Decreased          Decreased                         54   \n",
      "\n",
      "           Extent YP feels healthy  Extent YP feels they are achieving  \\\n",
      "Increased                      268                                 309   \n",
      "No Change                      167                                 134   \n",
      "Decreased                       65                                  57   \n",
      "\n",
      "           Extent YP feels responsible  Extent YP feels safe  \\\n",
      "Increased                          267                   241   \n",
      "No Change                          163                   182   \n",
      "Decreased                           70                    77   \n",
      "\n",
      "           Extent YP feels nurtured  Extent YP feels respected  \\\n",
      "Increased                       263                        266   \n",
      "No Change                       167                        167   \n",
      "Decreased                        70                         67   \n",
      "\n",
      "           Extent YP feels included  Extent YP feels active  \n",
      "Increased                       265                     262  \n",
      "No Change                       177                     166  \n",
      "Decreased                        58                      72  \n"
     ]
    }
   ],
   "source": [
    "# Create a DataFrame with the counts\n",
    "counts_df = pd.DataFrame({\n",
    "    'Change in Shanarri': ['Increased', 'No Change', 'Decreased'],\n",
    "    'Extent YP feels wellbeing': extent_yp_count_wellbeing,\n",
    "    'Extent YP feels healthy': extent_yp_count_healthy,\n",
    "    'Extent YP feels they are achieving': extent_yp_count_achieving,\n",
    "    'Extent YP feels responsible': extent_yp_count_responsible,\n",
    "    'Extent YP feels safe': extent_yp_count_safe,\n",
    "    'Extent YP feels nurtured': extent_yp_count_nurtured,\n",
    "    'Extent YP feels respected': extent_yp_count_respected,\n",
    "    'Extent YP feels included': extent_yp_count_included,\n",
    "    'Extent YP feels active': extent_yp_count_active\n",
    "})\n",
    "\n",
    "# Display the resulting DataFrame\n",
    "print(counts_df)"
   ]
  },
  {
   "cell_type": "code",
   "execution_count": 22,
   "id": "9b8046aa",
   "metadata": {},
   "outputs": [],
   "source": [
    "# Export DataFrame to Excel\n",
    "excel_file_path = 'Changes_in_Shannari2.xlsx'\n",
    "counts_df.to_excel(excel_file_path, index=False)\n"
   ]
  },
  {
   "cell_type": "code",
   "execution_count": 23,
   "id": "db3a595d",
   "metadata": {
    "scrolled": false
   },
   "outputs": [],
   "source": [
    "# Remove white spaces from the \"Barriers\" column\n",
    "destination_achieved_df['Barriers.1'] = destination_achieved_df['Barriers.1'].str.replace(' ', '')\n",
    "\n",
    "# Create a set to store unique barrier values\n",
    "unique_barriers = set()\n",
    "\n",
    "# Iterate over each row in the \"Barriers\" column\n",
    "for row in destination_achieved_df['Barriers.1'].dropna():\n",
    "    # Split the values in the current row by semicolon\n",
    "    row_values = row.split(';')\n",
    "    \n",
    "    # Add each unique value to the set\n",
    "    unique_barriers.update(row_values)\n",
    "\n",
    "# Create new columns based on the unique barrier values\n",
    "for barrier in unique_barriers:\n",
    "    destination_achieved_df[barrier] = destination_achieved_df['Barriers.1'].apply(lambda x: 1 if isinstance(x, str) and barrier in x.split(';') else 0)"
   ]
  },
  {
   "cell_type": "code",
   "execution_count": 24,
   "id": "6b0eaebe",
   "metadata": {},
   "outputs": [],
   "source": [
    "# Create 'barriers_all' column\n",
    "\n",
    "# List of columns to iterate through\n",
    "columns_to_count = [\n",
    "    'MentalHealthChallenges', 'Refugeeorasylumseeker', 'Homeless',\n",
    "    'LookedafterYP/CareExperienced', 'Criminalconviction',\n",
    "    'Physicalhealthissues/disability', 'Transportationissues', 'FamilyIssues',\n",
    "    'Carer', 'AddictionIssues', 'Literacy/Numeracyissues', 'Learningchallenges'\n",
    "]\n",
    "\n",
    "# Create 'barriers_all' column and initialize it to 0\n",
    "destination_achieved_df['barriers_all'] = 0\n",
    "\n",
    "# Iterate over the columns and sum them into 'barriers_all'\n",
    "for column in columns_to_count:\n",
    "    destination_achieved_df['barriers_all'] += destination_achieved_df[column]"
   ]
  },
  {
   "cell_type": "code",
   "execution_count": 25,
   "id": "5be1aee0",
   "metadata": {},
   "outputs": [
    {
     "name": "stdout",
     "output_type": "stream",
     "text": [
      "Change in General wellbeing/happiness rating\n",
      "Decreased    1.259259\n",
      "Increased    1.812500\n",
      "No Change    1.252874\n",
      "Name: barriers_all, dtype: float64\n"
     ]
    }
   ],
   "source": [
    "# Group by 'Change in Extent YP feels healthy' and calculate the average of 'barriers_all'\n",
    "average_barriers = destination_achieved_df.groupby('Change in General wellbeing/happiness rating')['barriers_all'].mean()\n",
    "\n",
    "# Display the result\n",
    "print(average_barriers)"
   ]
  },
  {
   "cell_type": "code",
   "execution_count": 26,
   "id": "2b16532b",
   "metadata": {},
   "outputs": [
    {
     "name": "stdout",
     "output_type": "stream",
     "text": [
      "1    173\n",
      "2    141\n",
      "0     96\n",
      "3     50\n",
      "4     30\n",
      "5      7\n",
      "6      2\n",
      "7      1\n",
      "Name: barriers_all, dtype: int64\n"
     ]
    }
   ],
   "source": [
    "# Display the value counts of 'barriers_all'\n",
    "barriers_all_counts = destination_achieved_df['barriers_all'].value_counts()\n",
    "\n",
    "# Display the result\n",
    "print(barriers_all_counts)"
   ]
  },
  {
   "cell_type": "code",
   "execution_count": 27,
   "id": "e28a0724",
   "metadata": {},
   "outputs": [
    {
     "name": "stdout",
     "output_type": "stream",
     "text": [
      "Who sourced the job opportunity?              Other  Venture  Young person\n",
      "Change in General wellbeing/happiness rating                              \n",
      "Decreased                                         6       24            24\n",
      "Increased                                        48      137            87\n",
      "No Change                                        20       69            85\n"
     ]
    }
   ],
   "source": [
    "# Group by 'Change in General wellbeing/happiness rating' and 'Who sourced the job opportunity'\n",
    "grouped_df = destination_achieved_df.groupby(['Change in General wellbeing/happiness rating', 'Who sourced the job opportunity?']).size().unstack(fill_value=0)\n",
    "\n",
    "# Display the resulting DataFrame\n",
    "print(grouped_df)"
   ]
  },
  {
   "cell_type": "code",
   "execution_count": null,
   "id": "56d6cbd5",
   "metadata": {},
   "outputs": [],
   "source": []
  },
  {
   "cell_type": "code",
   "execution_count": null,
   "id": "a2d05f38",
   "metadata": {},
   "outputs": [],
   "source": []
  }
 ],
 "metadata": {
  "kernelspec": {
   "display_name": "Python 3 (ipykernel)",
   "language": "python",
   "name": "python3"
  },
  "language_info": {
   "codemirror_mode": {
    "name": "ipython",
    "version": 3
   },
   "file_extension": ".py",
   "mimetype": "text/x-python",
   "name": "python",
   "nbconvert_exporter": "python",
   "pygments_lexer": "ipython3",
   "version": "3.11.4"
  }
 },
 "nbformat": 4,
 "nbformat_minor": 5
}
