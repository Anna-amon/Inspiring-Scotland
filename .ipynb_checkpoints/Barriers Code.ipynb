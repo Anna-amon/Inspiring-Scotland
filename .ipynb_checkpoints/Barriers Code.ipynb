{
 "cells": [
  {
   "cell_type": "code",
   "execution_count": 2,
   "id": "3051b7a7",
   "metadata": {},
   "outputs": [],
   "source": [
    "import pandas as pd"
   ]
  },
  {
   "cell_type": "code",
   "execution_count": 3,
   "id": "7507b39f",
   "metadata": {},
   "outputs": [],
   "source": [
    "barriers = pd.read_csv('barriers3.csv')"
   ]
  },
  {
   "cell_type": "code",
   "execution_count": 8,
   "id": "0a5b1b59",
   "metadata": {},
   "outputs": [
    {
     "name": "stdout",
     "output_type": "stream",
     "text": [
      "['Form Name', 'Created Date', 'Account Name', 'Full Name', 'Record Type', 'Barriers']\n"
     ]
    }
   ],
   "source": [
    "# Assuming you have a DataFrame named 'barriers'\n",
    "columns_list = barriers.columns.tolist()\n",
    "\n",
    "# 'columns_list' will contain the names of all columns in your DataFrame\n",
    "print(columns_list)"
   ]
  },
  {
   "cell_type": "code",
   "execution_count": 9,
   "id": "9186907d",
   "metadata": {
    "scrolled": false
   },
   "outputs": [
    {
     "name": "stdout",
     "output_type": "stream",
     "text": [
      "      Form Name Created Date         Account Name        Full Name  \\\n",
      "0      F-000007   07/10/2019  Action for Children       AFC/207441   \n",
      "1      F-000010   09/10/2019         Calman Trust    CAL-2019-0001   \n",
      "2      F-000015   14/10/2019      ENABLE Scotland  ENA-2019-FIFE03   \n",
      "3      F-000014   14/10/2019      ENABLE Scotland  ENA-2019-FIFE02   \n",
      "4      F-000013   14/10/2019      ENABLE Scotland  ENA-2019-FIFE01   \n",
      "...         ...          ...                  ...              ...   \n",
      "23204  F-037012   01/11/2023        Street League      OFNDen36068   \n",
      "23205  F-037010   01/11/2023        Street League      OFNCul36367   \n",
      "23206  F-037008   01/11/2023        Street League      OFNCra33270   \n",
      "23207  F-037005   01/11/2023        Street League      OFNCoo36069   \n",
      "23208  F-037003   01/11/2023        Street League      OFNCon36197   \n",
      "\n",
      "          Record Type                                           Barriers  \n",
      "0      New Engagement  Alcohol misuse - family; Criminal convictions/...  \n",
      "1      New Engagement  Housing problems/homeless; Lack of private tra...  \n",
      "2      New Engagement       Learning disabilities; Literacy difficulties  \n",
      "3      New Engagement       Learning disabilities; Literacy difficulties  \n",
      "4      New Engagement       Learning disabilities; Literacy difficulties  \n",
      "...               ...                                                ...  \n",
      "23204  New Engagement                                                NaN  \n",
      "23205  New Engagement                                                NaN  \n",
      "23206  New Engagement                                                NaN  \n",
      "23207  New Engagement                                                NaN  \n",
      "23208  New Engagement                                                NaN  \n",
      "\n",
      "[23209 rows x 6 columns]\n"
     ]
    }
   ],
   "source": [
    "print(barriers)"
   ]
  },
  {
   "cell_type": "code",
   "execution_count": 10,
   "id": "c5b6e6c2",
   "metadata": {},
   "outputs": [],
   "source": [
    "# Convert the 'Created Date' column to datetime format\n",
    "barriers['Created Date'] = pd.to_datetime(barriers['Created Date'], format='%d/%m/%Y')"
   ]
  },
  {
   "cell_type": "code",
   "execution_count": 11,
   "id": "3364accd",
   "metadata": {},
   "outputs": [
    {
     "name": "stdout",
     "output_type": "stream",
     "text": [
      "      Form Name Created Date       Account Name          Full Name  \\\n",
      "20474  F-032480   2023-07-02            Move On       MOV-2020-602   \n",
      "20475  F-032479   2023-07-02            Move On           68485787   \n",
      "20476  F-032476   2023-07-02            Move On           19962915   \n",
      "20477  F-032474   2023-07-02            Move On           70015507   \n",
      "20478  F-032472   2023-07-02            Move On       MOV-2019-603   \n",
      "...         ...          ...                ...                ...   \n",
      "22984  F-036532   2023-09-29  FARE - St Andrews  FAR-2023-STAN0023   \n",
      "22985  F-036528   2023-09-29  FARE - St Andrews  FAR-2023-STAN0022   \n",
      "22986  F-036527   2023-09-29    ENABLE Scotland     ENA-2023-GLA04   \n",
      "22987  F-036521   2023-09-29  FARE - St Andrews  FAR-2023-STAN0021   \n",
      "22988  F-036502   2023-09-29      Street League        OFNCej33397   \n",
      "\n",
      "              Record Type                                           Barriers  \n",
      "20474  Continuous Support  Family Issues; Looked after YP/Care Experience...  \n",
      "20475  Continuous Support                                  Not yet disclosed  \n",
      "20476  Continuous Support  Family Issues; Literacy/Numeracy issues; Looke...  \n",
      "20477  Continuous Support                           Mental Health Challenges  \n",
      "20478  Continuous Support  Addiction Issues; Carer; Family Issues; Learni...  \n",
      "...                   ...                                                ...  \n",
      "22984      New Engagement                                                NaN  \n",
      "22985      New Engagement                                                NaN  \n",
      "22986      New Engagement                                                NaN  \n",
      "22987      New Engagement                                                NaN  \n",
      "22988      New Engagement                                                NaN  \n",
      "\n",
      "[2515 rows x 6 columns]\n"
     ]
    }
   ],
   "source": [
    "# Assuming you already converted 'Created Date' to datetime format\n",
    "# If not, please do so using the correct date format as discussed earlier\n",
    "\n",
    "# Filter the DataFrame based on the date range with the correct format\n",
    "start_date = pd.to_datetime('01/07/2023', format='%d/%m/%Y')\n",
    "end_date = pd.to_datetime('30/09/2023', format='%d/%m/%Y')\n",
    "\n",
    "filtered_forms = barriers[(barriers['Created Date'] >= start_date) & (barriers['Created Date'] <= end_date)]\n",
    "\n",
    "# Keep only the desired columns\n",
    "filtered_forms = filtered_forms[['Form Name', 'Created Date', 'Account Name', 'Full Name', 'Record Type', 'Barriers']]\n",
    "\n",
    "# Display the resulting DataFrame\n",
    "print(filtered_forms)"
   ]
  },
  {
   "cell_type": "code",
   "execution_count": 12,
   "id": "4e641786",
   "metadata": {},
   "outputs": [
    {
     "name": "stdout",
     "output_type": "stream",
     "text": [
      "     Form Name Created Date                 Account Name Full Name  \\\n",
      "0     F-035597   2023-09-20                      Move On  01040638   \n",
      "1     F-035596   2023-09-20                      Move On  01040638   \n",
      "2     F-034622   2023-09-05                      Move On  07289081   \n",
      "3     F-034621   2023-09-05                      Move On  07289081   \n",
      "4     F-036316   2023-09-28  East Ayrshire Carers Centre       114   \n",
      "...        ...          ...                          ...       ...   \n",
      "2510  F-033212   2023-07-18                    Tullochan   tull364   \n",
      "2511  F-033214   2023-07-18                    Tullochan   tull365   \n",
      "2512  F-033213   2023-07-18                    Tullochan   tull365   \n",
      "2513  F-033217   2023-07-18                    Tullochan   tull366   \n",
      "2514  F-033216   2023-07-18                    Tullochan   tull366   \n",
      "\n",
      "             Record Type                                           Barriers  \n",
      "0     Continuous Support                              Transportation issues  \n",
      "1         New Engagement                                                NaN  \n",
      "2     Continuous Support  Criminal conviction; Family Issues; Homeless; ...  \n",
      "3         New Engagement                                                NaN  \n",
      "4     Continuous Support     Carer; Family Issues; Mental Health Challenges  \n",
      "...                  ...                                                ...  \n",
      "2510      New Engagement                                                NaN  \n",
      "2511  Continuous Support                                  Not yet disclosed  \n",
      "2512      New Engagement                                                NaN  \n",
      "2513  Continuous Support                                  Not yet disclosed  \n",
      "2514      New Engagement                                                NaN  \n",
      "\n",
      "[2515 rows x 6 columns]\n"
     ]
    }
   ],
   "source": [
    "filtered_forms = filtered_forms.sort_values(by=['Full Name', 'Record Type'])\n",
    "\n",
    "# Reset the index for the sorted DataFrame\n",
    "filtered_forms.reset_index(drop=True, inplace=True)\n",
    "\n",
    "# Display the sorted DataFrame\n",
    "print(filtered_forms)"
   ]
  },
  {
   "cell_type": "code",
   "execution_count": 13,
   "id": "b9b6b665",
   "metadata": {},
   "outputs": [
    {
     "name": "stdout",
     "output_type": "stream",
     "text": [
      "     Form Name Created Date Account Name Full Name         Record Type  \\\n",
      "0     F-035597   2023-09-20      Move On  01040638  Continuous Support   \n",
      "1     F-035596   2023-09-20      Move On  01040638      New Engagement   \n",
      "2     F-034622   2023-09-05      Move On  07289081  Continuous Support   \n",
      "3     F-034621   2023-09-05      Move On  07289081      New Engagement   \n",
      "4     F-036064   2023-09-27      Move On  19216864  Continuous Support   \n",
      "...        ...          ...          ...       ...                 ...   \n",
      "1387  F-033209   2023-07-18    Tullochan   tull363      New Engagement   \n",
      "1388  F-033214   2023-07-18    Tullochan   tull365  Continuous Support   \n",
      "1389  F-033213   2023-07-18    Tullochan   tull365      New Engagement   \n",
      "1390  F-033217   2023-07-18    Tullochan   tull366  Continuous Support   \n",
      "1391  F-033216   2023-07-18    Tullochan   tull366      New Engagement   \n",
      "\n",
      "                                               Barriers  \n",
      "0                                 Transportation issues  \n",
      "1                                                   NaN  \n",
      "2     Criminal conviction; Family Issues; Homeless; ...  \n",
      "3                                                   NaN  \n",
      "4     Addiction Issues; Family Issues; Homeless; Loo...  \n",
      "...                                                 ...  \n",
      "1387                                                NaN  \n",
      "1388                                  Not yet disclosed  \n",
      "1389                                                NaN  \n",
      "1390                                  Not yet disclosed  \n",
      "1391                                                NaN  \n",
      "\n",
      "[1392 rows x 6 columns]\n"
     ]
    }
   ],
   "source": [
    "# Group the DataFrame by 'Full Name'\n",
    "grouped = filtered_forms.groupby('Full Name')\n",
    "\n",
    "# Initialize an empty list to store the rows with both form types\n",
    "filtered_rows = []\n",
    "\n",
    "# Iterate through the groups and check if both form types are present\n",
    "for name, group in grouped:\n",
    "    has_continuous_support = 'Continuous Support' in group['Record Type'].values\n",
    "    has_new_engagement = 'New Engagement' in group['Record Type'].values\n",
    "    \n",
    "    # If both types are present, add the rows to the filtered list\n",
    "    if has_continuous_support and has_new_engagement:\n",
    "        filtered_rows.extend(group.to_dict(orient='records'))\n",
    "\n",
    "# Create a new DataFrame from the filtered rows\n",
    "result_df = pd.DataFrame(filtered_rows)\n",
    "\n",
    "# Display the resulting DataFrame\n",
    "print(result_df)"
   ]
  },
  {
   "cell_type": "code",
   "execution_count": 14,
   "id": "7d303838",
   "metadata": {},
   "outputs": [
    {
     "name": "stdout",
     "output_type": "stream",
     "text": [
      "Continuous Support    759\n",
      "New Engagement        633\n",
      "Name: Record Type, dtype: int64\n"
     ]
    }
   ],
   "source": [
    "# Count the number of 'Continuous Support' and 'New Engagement' forms\n",
    "form_counts = result_df['Record Type'].value_counts()\n",
    "\n",
    "# Print the form counts\n",
    "print(form_counts)"
   ]
  },
  {
   "cell_type": "code",
   "execution_count": 15,
   "id": "d04c619c",
   "metadata": {
    "scrolled": true
   },
   "outputs": [
    {
     "name": "stdout",
     "output_type": "stream",
     "text": [
      "Continuous Support    633\n",
      "Name: Record Type, dtype: int64\n"
     ]
    }
   ],
   "source": [
    "# Sort the DataFrame by 'Full Name' and 'Created Date' in descending order\n",
    "result_df = result_df.sort_values(by=['Full Name', 'Created Date'], ascending=[True, False])\n",
    "\n",
    "# Group the DataFrame by 'Full Name' and select the first row (most recent form) for each group\n",
    "most_recent_forms = result_df.groupby('Full Name').head(1)\n",
    "\n",
    "# Count the number of 'Continuous Support' and 'New Engagement' forms in the most recent forms\n",
    "form_counts = most_recent_forms['Record Type'].value_counts()\n",
    "\n",
    "# Display the form counts\n",
    "print(form_counts)"
   ]
  },
  {
   "cell_type": "code",
   "execution_count": 17,
   "id": "9efccd62",
   "metadata": {
    "scrolled": true
   },
   "outputs": [
    {
     "name": "stdout",
     "output_type": "stream",
     "text": [
      "Mental Health Challenges             244\n",
      "Not yet disclosed                    152\n",
      "Learning challenges                  135\n",
      "Literacy/Numeracy issues             107\n",
      "Family Issues                         94\n",
      "Looked after YP/Care Experienced      57\n",
      "Physical health issues/disability     42\n",
      "Transportation issues                 35\n",
      "Criminal conviction                   30\n",
      "Addiction Issues                      23\n",
      "Homeless                              22\n",
      "Carer                                 17\n",
      "English is not the first language     15\n",
      "Refugee or asylum seeker              10\n",
      "Doesn’t have their own bed             1\n",
      "Name: Barriers, dtype: int64\n"
     ]
    }
   ],
   "source": [
    "# Split the 'Barriers' column by semicolon and explode it into separate rows\n",
    "barriers_split = most_recent_forms['Barriers'].str.split(';').explode()\n",
    "\n",
    "# Count the occurrences of each barrier type\n",
    "barrier_counts = barriers_split.str.strip().value_counts()\n",
    "\n",
    "# Display the barrier counts\n",
    "print(barrier_counts)"
   ]
  },
  {
   "cell_type": "code",
   "execution_count": 18,
   "id": "d3c2a8fa",
   "metadata": {},
   "outputs": [
    {
     "name": "stdout",
     "output_type": "stream",
     "text": [
      "Barrier Counts (excluding 'Not yet disclosed'):\n",
      "Mental Health Challenges             244\n",
      "Learning challenges                  135\n",
      "Literacy/Numeracy issues             107\n",
      "Family Issues                         94\n",
      "Looked after YP/Care Experienced      57\n",
      "Physical health issues/disability     42\n",
      "Transportation issues                 35\n",
      "Criminal conviction                   30\n",
      "Addiction Issues                      23\n",
      "Homeless                              22\n",
      "Carer                                 17\n",
      "English is not the first language     15\n",
      "Refugee or asylum seeker              10\n",
      "Doesn’t have their own bed             1\n",
      "Name: Barriers, dtype: int64\n",
      "\n",
      "Barrier Percentages (excluding 'Not yet disclosed'):\n",
      "Mental Health Challenges             29.326923\n",
      "Learning challenges                  16.225962\n",
      "Literacy/Numeracy issues             12.860577\n",
      "Family Issues                        11.298077\n",
      "Looked after YP/Care Experienced      6.850962\n",
      "Physical health issues/disability     5.048077\n",
      "Transportation issues                 4.206731\n",
      "Criminal conviction                   3.605769\n",
      "Addiction Issues                      2.764423\n",
      "Homeless                              2.644231\n",
      "Carer                                 2.043269\n",
      "English is not the first language     1.802885\n",
      "Refugee or asylum seeker              1.201923\n",
      "Doesn’t have their own bed            0.120192\n",
      "Name: Barriers, dtype: float64\n"
     ]
    }
   ],
   "source": [
    "# Remove 'Not yet disclosed' from the barrier counts\n",
    "barrier_counts_excluding_not_yet_disclosed = barrier_counts.drop('Not yet disclosed', errors='ignore')\n",
    "\n",
    "# Calculate the total count of barriers, excluding 'Not yet disclosed'\n",
    "total_barriers_excluding_not_yet_disclosed = barrier_counts_excluding_not_yet_disclosed.sum()\n",
    "\n",
    "# Calculate the percentage of each barrier type relative to the total barriers (excluding 'Not yet disclosed')\n",
    "barrier_percentages_excluding_not_yet_disclosed = (barrier_counts_excluding_not_yet_disclosed / total_barriers_excluding_not_yet_disclosed) * 100\n",
    "\n",
    "# Sort the barrier percentages in descending order to have 'Mental Health Challenges' as the highest percentage\n",
    "barrier_percentages_excluding_not_yet_disclosed = barrier_percentages_excluding_not_yet_disclosed.sort_values(ascending=False)\n",
    "\n",
    "# Display the barrier counts and percentages (excluding 'Not yet disclosed')\n",
    "print(\"Barrier Counts (excluding 'Not yet disclosed'):\")\n",
    "print(barrier_counts_excluding_not_yet_disclosed)\n",
    "\n",
    "print(\"\\nBarrier Percentages (excluding 'Not yet disclosed'):\")\n",
    "print(barrier_percentages_excluding_not_yet_disclosed)\n"
   ]
  },
  {
   "cell_type": "code",
   "execution_count": 19,
   "id": "20b86823",
   "metadata": {},
   "outputs": [
    {
     "name": "stdout",
     "output_type": "stream",
     "text": [
      "Barrier Percentages (as a percentage of 633):\n",
      "Mental Health Challenges             38.546603\n",
      "Learning challenges                  21.327014\n",
      "Literacy/Numeracy issues             16.903633\n",
      "Family Issues                        14.849921\n",
      "Looked after YP/Care Experienced      9.004739\n",
      "Physical health issues/disability     6.635071\n",
      "Transportation issues                 5.529226\n",
      "Criminal conviction                   4.739336\n",
      "Addiction Issues                      3.633491\n",
      "Homeless                              3.475513\n",
      "Carer                                 2.685624\n",
      "English is not the first language     2.369668\n",
      "Refugee or asylum seeker              1.579779\n",
      "Doesn’t have their own bed            0.157978\n",
      "Name: Barriers, dtype: float64\n"
     ]
    }
   ],
   "source": [
    "# Calculate the percentage of each barrier type relative to the total count of 633 (new engagements without continuous support)\n",
    "barrier_percentages_relative_to_total = (barrier_counts_excluding_not_yet_disclosed / 633) * 100\n",
    "\n",
    "# Display the barrier percentages as a percentage of 633\n",
    "print(\"Barrier Percentages (as a percentage of 633):\")\n",
    "print(barrier_percentages_relative_to_total)"
   ]
  },
  {
   "cell_type": "code",
   "execution_count": null,
   "id": "09ca3067",
   "metadata": {},
   "outputs": [],
   "source": []
  }
 ],
 "metadata": {
  "kernelspec": {
   "display_name": "Python 3 (ipykernel)",
   "language": "python",
   "name": "python3"
  },
  "language_info": {
   "codemirror_mode": {
    "name": "ipython",
    "version": 3
   },
   "file_extension": ".py",
   "mimetype": "text/x-python",
   "name": "python",
   "nbconvert_exporter": "python",
   "pygments_lexer": "ipython3",
   "version": "3.11.4"
  }
 },
 "nbformat": 4,
 "nbformat_minor": 5
}
